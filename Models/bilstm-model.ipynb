{
 "cells": [
  {
   "cell_type": "markdown",
   "id": "a8811a0a",
   "metadata": {
    "papermill": {
     "duration": 0.027476,
     "end_time": "2023-05-02T16:34:55.041033",
     "exception": false,
     "start_time": "2023-05-02T16:34:55.013557",
     "status": "completed"
    },
    "tags": []
   },
   "source": [
    "# Problem Statement: https://www.kaggle.com/competitions/jargon-detection/overview\n",
    "###    Technical terminology expressions are unique to a particular field and have implied meanings that do not conform to common expectations. Non-experienced individuals would either be completely unaware of the meaning of such concepts or tend to interpret common words in a different sense than intended, failing to understand the communication attempt in either case. This, in turn, creates a significant entry barrier to reading scholarly writing. A primordial first step to creating a scientific-document reading system is to be able to recognize these technical terms that could delay, or even impede, reader understanding. As very few research efforts have been devoted to this matter, we propose a technical terminology detection shared task at SDU@AAAI-23 in an attempt to push forward the research on technical terminology understanding.\n",
    "\n",
    "### Task 1 - Jargon/Terminology Detection\n",
    "#### This task aims to identify domain-specific technical terminology, a.k.a. jargon, used in scientific research papers. This includes both words that are specific to a field or commonly used terms that acquire particular meanings within such a field. For instance:\n",
    "\n",
    "#### Input: Afterwards, model training is performed using cross-entropy loss.\n",
    "\n",
    "#### Output: Afterwards, model training is performed using cross-entropy loss.\n",
    "\n",
    "#### In this example, the terms \"model training\" and \"cross-entropy loss\" are technical computer science concepts that should be identified. To simplify the task, only the main noun in a nominal phrase should be tagged. The task is modeled as a sentence-level sequence labeling problem. Participants are provided with manually-labeled training and development datasets from three distinct scientific domains: Computer Science, Economics, and Physics. Each scientific domain has its own train/dev/test splits. Considering both the training and development sets, the provided dataset includes 7000+ Computer Science sentences, 6000+ Economics sentences, and 8000+ Physics sentences. The submitted systems will be evaluated based on their precision, recall, and F1 scores on the hidden test set computed for correct prediction boundaries in the sentences."
   ]
  },
  {
   "cell_type": "markdown",
   "id": "8909a8e8",
   "metadata": {
    "papermill": {
     "duration": 0.028373,
     "end_time": "2023-05-02T16:34:55.093725",
     "exception": false,
     "start_time": "2023-05-02T16:34:55.065352",
     "status": "completed"
    },
    "tags": []
   },
   "source": [
    "# Acquire Data"
   ]
  },
  {
   "cell_type": "markdown",
   "id": "bcc27f39",
   "metadata": {
    "papermill": {
     "duration": 0.020869,
     "end_time": "2023-05-02T16:34:55.135739",
     "exception": false,
     "start_time": "2023-05-02T16:34:55.114870",
     "status": "completed"
    },
    "tags": []
   },
   "source": [
    "## Import libraries numpy, pandas"
   ]
  },
  {
   "cell_type": "code",
   "execution_count": 1,
   "id": "6718c21d",
   "metadata": {
    "_cell_guid": "b1076dfc-b9ad-4769-8c92-a6c4dae69d19",
    "_uuid": "8f2839f25d086af736a60e9eeb907d3b93b6e0e5",
    "execution": {
     "iopub.execute_input": "2023-05-02T16:34:55.179401Z",
     "iopub.status.busy": "2023-05-02T16:34:55.178991Z",
     "iopub.status.idle": "2023-05-02T16:34:55.199740Z",
     "shell.execute_reply": "2023-05-02T16:34:55.198340Z"
    },
    "papermill": {
     "duration": 0.045804,
     "end_time": "2023-05-02T16:34:55.202384",
     "exception": false,
     "start_time": "2023-05-02T16:34:55.156580",
     "status": "completed"
    },
    "tags": []
   },
   "outputs": [
    {
     "name": "stdout",
     "output_type": "stream",
     "text": [
      "/kaggle/input/jargon/validation.csv\n",
      "/kaggle/input/jargon/test_no_labels.csv\n",
      "/kaggle/input/jargon/train.csv\n"
     ]
    }
   ],
   "source": [
    "import numpy as np # linear algebra\n",
    "import pandas as pd # data processing, CSV file I/O (e.g. pd.read_csv)\n",
    "\n",
    "import os\n",
    "for dirname, _, filenames in os.walk('/kaggle/input'):\n",
    "    for filename in filenames:\n",
    "        print(os.path.join(dirname, filename))"
   ]
  },
  {
   "cell_type": "markdown",
   "id": "6e39da97",
   "metadata": {
    "papermill": {
     "duration": 0.025793,
     "end_time": "2023-05-02T16:34:55.255645",
     "exception": false,
     "start_time": "2023-05-02T16:34:55.229852",
     "status": "completed"
    },
    "tags": []
   },
   "source": [
    "## Load appropriate version of Keras and TensorFlow compatible with pre-trained ELMo embedding"
   ]
  },
  {
   "cell_type": "code",
   "execution_count": 2,
   "id": "4e41442f",
   "metadata": {
    "execution": {
     "iopub.execute_input": "2023-05-02T16:34:55.303899Z",
     "iopub.status.busy": "2023-05-02T16:34:55.302962Z",
     "iopub.status.idle": "2023-05-02T16:36:33.239712Z",
     "shell.execute_reply": "2023-05-02T16:36:33.238169Z"
    },
    "papermill": {
     "duration": 97.963633,
     "end_time": "2023-05-02T16:36:33.242989",
     "exception": false,
     "start_time": "2023-05-02T16:34:55.279356",
     "status": "completed"
    },
    "tags": []
   },
   "outputs": [
    {
     "name": "stdout",
     "output_type": "stream",
     "text": [
      "\u001b[33mWARNING: Skipping keras-nightly as it is not installed.\u001b[0m\u001b[33m\r\n",
      "\u001b[0m\u001b[33mWARNING: Running pip as the 'root' user can result in broken permissions and conflicting behaviour with the system package manager. It is recommended to use a virtual environment instead: https://pip.pypa.io/warnings/venv\u001b[0m\u001b[33m\r\n",
      "\u001b[0mFound existing installation: tensorflow 2.11.0\r\n",
      "Uninstalling tensorflow-2.11.0:\r\n",
      "  Successfully uninstalled tensorflow-2.11.0\r\n",
      "\u001b[33mWARNING: Running pip as the 'root' user can result in broken permissions and conflicting behaviour with the system package manager. It is recommended to use a virtual environment instead: https://pip.pypa.io/warnings/venv\u001b[0m\u001b[33m\r\n",
      "\u001b[0mCollecting keras==2.1.6\r\n",
      "  Downloading Keras-2.1.6-py2.py3-none-any.whl (339 kB)\r\n",
      "\u001b[2K     \u001b[90m━━━━━━━━━━━━━━━━━━━━━━━━━━━━━━━━━━━━━━━\u001b[0m \u001b[32m339.6/339.6 kB\u001b[0m \u001b[31m6.6 MB/s\u001b[0m eta \u001b[36m0:00:00\u001b[0m\r\n",
      "\u001b[?25hRequirement already satisfied: h5py in /opt/conda/lib/python3.7/site-packages (from keras==2.1.6) (3.8.0)\r\n",
      "Requirement already satisfied: scipy>=0.14 in /opt/conda/lib/python3.7/site-packages (from keras==2.1.6) (1.7.3)\r\n",
      "Requirement already satisfied: numpy>=1.9.1 in /opt/conda/lib/python3.7/site-packages (from keras==2.1.6) (1.21.6)\r\n",
      "Requirement already satisfied: pyyaml in /opt/conda/lib/python3.7/site-packages (from keras==2.1.6) (6.0)\r\n",
      "Requirement already satisfied: six>=1.9.0 in /opt/conda/lib/python3.7/site-packages (from keras==2.1.6) (1.16.0)\r\n",
      "Installing collected packages: keras\r\n",
      "  Attempting uninstall: keras\r\n",
      "    Found existing installation: keras 2.11.0\r\n",
      "    Uninstalling keras-2.11.0:\r\n",
      "      Successfully uninstalled keras-2.11.0\r\n",
      "Successfully installed keras-2.1.6\r\n",
      "\u001b[33mWARNING: Running pip as the 'root' user can result in broken permissions and conflicting behaviour with the system package manager. It is recommended to use a virtual environment instead: https://pip.pypa.io/warnings/venv\u001b[0m\u001b[33m\r\n",
      "\u001b[0mCollecting tensorflow==1.15.0\r\n",
      "  Downloading tensorflow-1.15.0-cp37-cp37m-manylinux2010_x86_64.whl (412.3 MB)\r\n",
      "\u001b[2K     \u001b[90m━━━━━━━━━━━━━━━━━━━━━━━━━━━━━━━━━━━━━━━\u001b[0m \u001b[32m412.3/412.3 MB\u001b[0m \u001b[31m2.9 MB/s\u001b[0m eta \u001b[36m0:00:00\u001b[0m\r\n",
      "\u001b[?25hCollecting keras-preprocessing>=1.0.5\r\n",
      "  Downloading Keras_Preprocessing-1.1.2-py2.py3-none-any.whl (42 kB)\r\n",
      "\u001b[2K     \u001b[90m━━━━━━━━━━━━━━━━━━━━━━━━━━━━━━━━━━━━━━━━\u001b[0m \u001b[32m42.6/42.6 kB\u001b[0m \u001b[31m3.7 MB/s\u001b[0m eta \u001b[36m0:00:00\u001b[0m\r\n",
      "\u001b[?25hRequirement already satisfied: google-pasta>=0.1.6 in /opt/conda/lib/python3.7/site-packages (from tensorflow==1.15.0) (0.2.0)\r\n",
      "Requirement already satisfied: protobuf>=3.6.1 in /opt/conda/lib/python3.7/site-packages (from tensorflow==1.15.0) (3.20.3)\r\n",
      "Requirement already satisfied: absl-py>=0.7.0 in /opt/conda/lib/python3.7/site-packages (from tensorflow==1.15.0) (1.4.0)\r\n",
      "Requirement already satisfied: grpcio>=1.8.6 in /opt/conda/lib/python3.7/site-packages (from tensorflow==1.15.0) (1.51.1)\r\n",
      "Requirement already satisfied: wrapt>=1.11.1 in /opt/conda/lib/python3.7/site-packages (from tensorflow==1.15.0) (1.14.1)\r\n",
      "Requirement already satisfied: opt-einsum>=2.3.2 in /opt/conda/lib/python3.7/site-packages (from tensorflow==1.15.0) (3.3.0)\r\n",
      "Collecting gast==0.2.2\r\n",
      "  Downloading gast-0.2.2.tar.gz (10 kB)\r\n",
      "  Preparing metadata (setup.py) ... \u001b[?25l-\b \bdone\r\n",
      "\u001b[?25hRequirement already satisfied: wheel>=0.26 in /opt/conda/lib/python3.7/site-packages (from tensorflow==1.15.0) (0.38.4)\r\n",
      "Collecting astor>=0.6.0\r\n",
      "  Downloading astor-0.8.1-py2.py3-none-any.whl (27 kB)\r\n",
      "Requirement already satisfied: six>=1.10.0 in /opt/conda/lib/python3.7/site-packages (from tensorflow==1.15.0) (1.16.0)\r\n",
      "Collecting tensorboard<1.16.0,>=1.15.0\r\n",
      "  Downloading tensorboard-1.15.0-py3-none-any.whl (3.8 MB)\r\n",
      "\u001b[2K     \u001b[90m━━━━━━━━━━━━━━━━━━━━━━━━━━━━━━━━━━━━━━━━\u001b[0m \u001b[32m3.8/3.8 MB\u001b[0m \u001b[31m68.2 MB/s\u001b[0m eta \u001b[36m0:00:00\u001b[0m\r\n",
      "\u001b[?25hRequirement already satisfied: termcolor>=1.1.0 in /opt/conda/lib/python3.7/site-packages (from tensorflow==1.15.0) (2.2.0)\r\n",
      "Collecting tensorflow-estimator==1.15.1\r\n",
      "  Downloading tensorflow_estimator-1.15.1-py2.py3-none-any.whl (503 kB)\r\n",
      "\u001b[2K     \u001b[90m━━━━━━━━━━━━━━━━━━━━━━━━━━━━━━━━━━━━━━\u001b[0m \u001b[32m503.4/503.4 kB\u001b[0m \u001b[31m36.9 MB/s\u001b[0m eta \u001b[36m0:00:00\u001b[0m\r\n",
      "\u001b[?25hCollecting keras-applications>=1.0.8\r\n",
      "  Downloading Keras_Applications-1.0.8-py3-none-any.whl (50 kB)\r\n",
      "\u001b[2K     \u001b[90m━━━━━━━━━━━━━━━━━━━━━━━━━━━━━━━━━━━━━━━━\u001b[0m \u001b[32m50.7/50.7 kB\u001b[0m \u001b[31m4.9 MB/s\u001b[0m eta \u001b[36m0:00:00\u001b[0m\r\n",
      "\u001b[?25hRequirement already satisfied: numpy<2.0,>=1.16.0 in /opt/conda/lib/python3.7/site-packages (from tensorflow==1.15.0) (1.21.6)\r\n",
      "Requirement already satisfied: h5py in /opt/conda/lib/python3.7/site-packages (from keras-applications>=1.0.8->tensorflow==1.15.0) (3.8.0)\r\n",
      "Requirement already satisfied: werkzeug>=0.11.15 in /opt/conda/lib/python3.7/site-packages (from tensorboard<1.16.0,>=1.15.0->tensorflow==1.15.0) (2.2.3)\r\n",
      "Requirement already satisfied: markdown>=2.6.8 in /opt/conda/lib/python3.7/site-packages (from tensorboard<1.16.0,>=1.15.0->tensorflow==1.15.0) (3.4.1)\r\n",
      "Requirement already satisfied: setuptools>=41.0.0 in /opt/conda/lib/python3.7/site-packages (from tensorboard<1.16.0,>=1.15.0->tensorflow==1.15.0) (59.8.0)\r\n",
      "Requirement already satisfied: importlib-metadata>=4.4 in /opt/conda/lib/python3.7/site-packages (from markdown>=2.6.8->tensorboard<1.16.0,>=1.15.0->tensorflow==1.15.0) (4.11.4)\r\n",
      "Requirement already satisfied: MarkupSafe>=2.1.1 in /opt/conda/lib/python3.7/site-packages (from werkzeug>=0.11.15->tensorboard<1.16.0,>=1.15.0->tensorflow==1.15.0) (2.1.1)\r\n",
      "Requirement already satisfied: typing-extensions>=3.6.4 in /opt/conda/lib/python3.7/site-packages (from importlib-metadata>=4.4->markdown>=2.6.8->tensorboard<1.16.0,>=1.15.0->tensorflow==1.15.0) (4.4.0)\r\n",
      "Requirement already satisfied: zipp>=0.5 in /opt/conda/lib/python3.7/site-packages (from importlib-metadata>=4.4->markdown>=2.6.8->tensorboard<1.16.0,>=1.15.0->tensorflow==1.15.0) (3.11.0)\r\n",
      "Building wheels for collected packages: gast\r\n",
      "  Building wheel for gast (setup.py) ... \u001b[?25l-\b \b\\\b \bdone\r\n",
      "\u001b[?25h  Created wheel for gast: filename=gast-0.2.2-py3-none-any.whl size=7554 sha256=4bd4e53103a2ff067139e8be3772ae5c693fdcf69e954eaa83726d2cb879e892\r\n",
      "  Stored in directory: /root/.cache/pip/wheels/cf/87/6f/3f34218ef184368cec9ee65bdfd65baf117811f0a0ce1263ff\r\n",
      "Successfully built gast\r\n",
      "Installing collected packages: tensorflow-estimator, keras-preprocessing, gast, astor, keras-applications, tensorboard, tensorflow\r\n",
      "  Attempting uninstall: tensorflow-estimator\r\n",
      "    Found existing installation: tensorflow-estimator 2.11.0\r\n",
      "    Uninstalling tensorflow-estimator-2.11.0:\r\n",
      "      Successfully uninstalled tensorflow-estimator-2.11.0\r\n",
      "  Attempting uninstall: gast\r\n",
      "    Found existing installation: gast 0.4.0\r\n",
      "    Uninstalling gast-0.4.0:\r\n",
      "      Successfully uninstalled gast-0.4.0\r\n",
      "  Attempting uninstall: tensorboard\r\n",
      "    Found existing installation: tensorboard 2.11.2\r\n",
      "    Uninstalling tensorboard-2.11.2:\r\n",
      "      Successfully uninstalled tensorboard-2.11.2\r\n",
      "\u001b[31mERROR: pip's dependency resolver does not currently take into account all the packages that are installed. This behaviour is the source of the following dependency conflicts.\r\n",
      "tfx-bsl 1.12.0 requires google-api-python-client<2,>=1.7.11, but you have google-api-python-client 2.83.0 which is incompatible.\r\n",
      "tfx-bsl 1.12.0 requires tensorflow<3,>=2.11, but you have tensorflow 1.15.0 which is incompatible.\r\n",
      "tensorflowjs 3.15.0 requires tensorflow<3,>=2.1.0, but you have tensorflow 1.15.0 which is incompatible.\r\n",
      "tensorflow-transform 1.12.0 requires tensorflow<2.12,>=2.11.0, but you have tensorflow 1.15.0 which is incompatible.\r\n",
      "tensorflow-text 2.11.0 requires tensorflow<2.12,>=2.11.0; platform_machine != \"arm64\" or platform_system != \"Darwin\", but you have tensorflow 1.15.0 which is incompatible.\r\n",
      "tensorflow-serving-api 2.11.0 requires protobuf<3.20,>=3.9.2, but you have protobuf 3.20.3 which is incompatible.\r\n",
      "tensorflow-serving-api 2.11.0 requires tensorflow<3,>=2.11.0, but you have tensorflow 1.15.0 which is incompatible.\r\n",
      "tensorflow-probability 0.19.0 requires gast>=0.3.2, but you have gast 0.2.2 which is incompatible.\r\n",
      "tensorflow-decision-forests 1.2.0 requires tensorflow~=2.11.0, but you have tensorflow 1.15.0 which is incompatible.\r\n",
      "tensorflow-cloud 0.1.16 requires tensorboard>=2.3.0, but you have tensorboard 1.15.0 which is incompatible.\u001b[0m\u001b[31m\r\n",
      "\u001b[0mSuccessfully installed astor-0.8.1 gast-0.2.2 keras-applications-1.0.8 keras-preprocessing-1.1.2 tensorboard-1.15.0 tensorflow-1.15.0 tensorflow-estimator-1.15.1\r\n",
      "\u001b[33mWARNING: Running pip as the 'root' user can result in broken permissions and conflicting behaviour with the system package manager. It is recommended to use a virtual environment instead: https://pip.pypa.io/warnings/venv\u001b[0m\u001b[33m\r\n",
      "\u001b[0mCollecting h5py==2.10.0\r\n",
      "  Downloading h5py-2.10.0-cp37-cp37m-manylinux1_x86_64.whl (2.9 MB)\r\n",
      "\u001b[2K     \u001b[90m━━━━━━━━━━━━━━━━━━━━━━━━━━━━━━━━━━━━━━━━\u001b[0m \u001b[32m2.9/2.9 MB\u001b[0m \u001b[31m28.5 MB/s\u001b[0m eta \u001b[36m0:00:00\u001b[0m\r\n",
      "\u001b[?25hRequirement already satisfied: six in /opt/conda/lib/python3.7/site-packages (from h5py==2.10.0) (1.16.0)\r\n",
      "Requirement already satisfied: numpy>=1.7 in /opt/conda/lib/python3.7/site-packages (from h5py==2.10.0) (1.21.6)\r\n",
      "Installing collected packages: h5py\r\n",
      "  Attempting uninstall: h5py\r\n",
      "    Found existing installation: h5py 3.8.0\r\n",
      "    Uninstalling h5py-3.8.0:\r\n",
      "      Successfully uninstalled h5py-3.8.0\r\n",
      "Successfully installed h5py-2.10.0\r\n",
      "\u001b[33mWARNING: Running pip as the 'root' user can result in broken permissions and conflicting behaviour with the system package manager. It is recommended to use a virtual environment instead: https://pip.pypa.io/warnings/venv\u001b[0m\u001b[33m\r\n",
      "\u001b[0m"
     ]
    }
   ],
   "source": [
    "!pip3 uninstall keras-nightly\n",
    "!pip3 uninstall -y tensorflow\n",
    "!pip3 install keras==2.1.6\n",
    "!pip3 install tensorflow==1.15.0\n",
    "!pip3 install h5py==2.10.0\n"
   ]
  },
  {
   "cell_type": "markdown",
   "id": "352ef35b",
   "metadata": {
    "papermill": {
     "duration": 0.031405,
     "end_time": "2023-05-02T16:36:33.306394",
     "exception": false,
     "start_time": "2023-05-02T16:36:33.274989",
     "status": "completed"
    },
    "tags": []
   },
   "source": [
    "## Save environment with package version details"
   ]
  },
  {
   "cell_type": "code",
   "execution_count": 3,
   "id": "d02a8aba",
   "metadata": {
    "execution": {
     "iopub.execute_input": "2023-05-02T16:36:33.374103Z",
     "iopub.status.busy": "2023-05-02T16:36:33.372769Z",
     "iopub.status.idle": "2023-05-02T16:36:54.676168Z",
     "shell.execute_reply": "2023-05-02T16:36:54.674322Z"
    },
    "papermill": {
     "duration": 21.34004,
     "end_time": "2023-05-02T16:36:54.678970",
     "exception": false,
     "start_time": "2023-05-02T16:36:33.338930",
     "status": "completed"
    },
    "scrolled": true,
    "tags": []
   },
   "outputs": [
    {
     "name": "stdout",
     "output_type": "stream",
     "text": [
      "conda list output has been saved to conda_list.txt\n"
     ]
    }
   ],
   "source": [
    "import subprocess\n",
    "\n",
    "# Run the conda list command and capture the output\n",
    "result = subprocess.run(['conda', 'list'], capture_output=True, text=True)\n",
    "\n",
    "# Save the output to a text file\n",
    "with open('conda_list_jargonDetection.txt', 'w') as file:\n",
    "    file.write(result.stdout)\n",
    "\n",
    "print('conda list output has been saved to conda_list.txt')\n"
   ]
  },
  {
   "cell_type": "markdown",
   "id": "115b4fe6",
   "metadata": {
    "papermill": {
     "duration": 0.032205,
     "end_time": "2023-05-02T16:36:54.744428",
     "exception": false,
     "start_time": "2023-05-02T16:36:54.712223",
     "status": "completed"
    },
    "tags": []
   },
   "source": [
    "## Define batch_size and import tensorflow and tensorflow hub to load elmo embedding model"
   ]
  },
  {
   "cell_type": "code",
   "execution_count": 4,
   "id": "068375c1",
   "metadata": {
    "execution": {
     "iopub.execute_input": "2023-05-02T16:36:54.814672Z",
     "iopub.status.busy": "2023-05-02T16:36:54.813293Z",
     "iopub.status.idle": "2023-05-02T16:36:58.694247Z",
     "shell.execute_reply": "2023-05-02T16:36:58.692661Z"
    },
    "papermill": {
     "duration": 3.920465,
     "end_time": "2023-05-02T16:36:58.697264",
     "exception": false,
     "start_time": "2023-05-02T16:36:54.776799",
     "status": "completed"
    },
    "tags": []
   },
   "outputs": [
    {
     "name": "stdout",
     "output_type": "stream",
     "text": [
      "tf ver: 1.15.0\n"
     ]
    }
   ],
   "source": [
    "batch_size = 32\n",
    "import tensorflow as tf\n",
    "print(f\"tf ver: {tf.__version__}\")\n",
    "import tensorflow_hub as hub"
   ]
  },
  {
   "cell_type": "markdown",
   "id": "15cb235e",
   "metadata": {
    "papermill": {
     "duration": 0.032785,
     "end_time": "2023-05-02T16:36:58.763820",
     "exception": false,
     "start_time": "2023-05-02T16:36:58.731035",
     "status": "completed"
    },
    "tags": []
   },
   "source": [
    "## import keras compatible version"
   ]
  },
  {
   "cell_type": "code",
   "execution_count": 5,
   "id": "43dc88b3",
   "metadata": {
    "execution": {
     "iopub.execute_input": "2023-05-02T16:36:58.831761Z",
     "iopub.status.busy": "2023-05-02T16:36:58.831330Z",
     "iopub.status.idle": "2023-05-02T16:36:58.868387Z",
     "shell.execute_reply": "2023-05-02T16:36:58.867061Z"
    },
    "papermill": {
     "duration": 0.074068,
     "end_time": "2023-05-02T16:36:58.871336",
     "exception": false,
     "start_time": "2023-05-02T16:36:58.797268",
     "status": "completed"
    },
    "tags": []
   },
   "outputs": [
    {
     "name": "stdout",
     "output_type": "stream",
     "text": [
      "keras ver: 2.1.6\n"
     ]
    },
    {
     "name": "stderr",
     "output_type": "stream",
     "text": [
      "Using TensorFlow backend.\n"
     ]
    }
   ],
   "source": [
    "import keras\n",
    "print(f\"keras ver: {keras.__version__}\")"
   ]
  },
  {
   "cell_type": "markdown",
   "id": "0f913e17",
   "metadata": {
    "papermill": {
     "duration": 0.032864,
     "end_time": "2023-05-02T16:36:58.938648",
     "exception": false,
     "start_time": "2023-05-02T16:36:58.905784",
     "status": "completed"
    },
    "tags": []
   },
   "source": [
    "## import matplotlib and load full-train data"
   ]
  },
  {
   "cell_type": "code",
   "execution_count": 6,
   "id": "1da87d5b",
   "metadata": {
    "execution": {
     "iopub.execute_input": "2023-05-02T16:36:59.007279Z",
     "iopub.status.busy": "2023-05-02T16:36:59.006832Z",
     "iopub.status.idle": "2023-05-02T16:36:59.961701Z",
     "shell.execute_reply": "2023-05-02T16:36:59.960239Z"
    },
    "papermill": {
     "duration": 0.993248,
     "end_time": "2023-05-02T16:36:59.965202",
     "exception": false,
     "start_time": "2023-05-02T16:36:58.971954",
     "status": "completed"
    },
    "tags": []
   },
   "outputs": [
    {
     "data": {
      "text/html": [
       "<div>\n",
       "<style scoped>\n",
       "    .dataframe tbody tr th:only-of-type {\n",
       "        vertical-align: middle;\n",
       "    }\n",
       "\n",
       "    .dataframe tbody tr th {\n",
       "        vertical-align: top;\n",
       "    }\n",
       "\n",
       "    .dataframe thead th {\n",
       "        text-align: right;\n",
       "    }\n",
       "</style>\n",
       "<table border=\"1\" class=\"dataframe\">\n",
       "  <thead>\n",
       "    <tr style=\"text-align: right;\">\n",
       "      <th></th>\n",
       "      <th>token_id</th>\n",
       "      <th>token</th>\n",
       "      <th>label</th>\n",
       "    </tr>\n",
       "  </thead>\n",
       "  <tbody>\n",
       "    <tr>\n",
       "      <th>574898</th>\n",
       "      <td>phys/doc_1866/5/13</td>\n",
       "      <td>relaxation</td>\n",
       "      <td>O</td>\n",
       "    </tr>\n",
       "    <tr>\n",
       "      <th>574899</th>\n",
       "      <td>phys/doc_1866/5/14</td>\n",
       "      <td>data</td>\n",
       "      <td>TERM</td>\n",
       "    </tr>\n",
       "    <tr>\n",
       "      <th>574900</th>\n",
       "      <td>phys/doc_1866/5/15</td>\n",
       "      <td>for</td>\n",
       "      <td>O</td>\n",
       "    </tr>\n",
       "    <tr>\n",
       "      <th>574901</th>\n",
       "      <td>phys/doc_1866/5/16</td>\n",
       "      <td>voltage</td>\n",
       "      <td>TERM</td>\n",
       "    </tr>\n",
       "    <tr>\n",
       "      <th>574902</th>\n",
       "      <td>phys/doc_1866/5/17</td>\n",
       "      <td>and</td>\n",
       "      <td>O</td>\n",
       "    </tr>\n",
       "    <tr>\n",
       "      <th>574903</th>\n",
       "      <td>phys/doc_1866/5/18</td>\n",
       "      <td>charge</td>\n",
       "      <td>TERM</td>\n",
       "    </tr>\n",
       "    <tr>\n",
       "      <th>574904</th>\n",
       "      <td>phys/doc_1866/5/19</td>\n",
       "      <td>obtained</td>\n",
       "      <td>O</td>\n",
       "    </tr>\n",
       "    <tr>\n",
       "      <th>574905</th>\n",
       "      <td>phys/doc_1866/5/20</td>\n",
       "      <td>from</td>\n",
       "      <td>O</td>\n",
       "    </tr>\n",
       "    <tr>\n",
       "      <th>574906</th>\n",
       "      <td>phys/doc_1866/5/21</td>\n",
       "      <td>a</td>\n",
       "      <td>O</td>\n",
       "    </tr>\n",
       "    <tr>\n",
       "      <th>574907</th>\n",
       "      <td>phys/doc_1866/5/22</td>\n",
       "      <td>commercial</td>\n",
       "      <td>O</td>\n",
       "    </tr>\n",
       "    <tr>\n",
       "      <th>574908</th>\n",
       "      <td>phys/doc_1866/5/23</td>\n",
       "      <td>supercapacitor</td>\n",
       "      <td>TERM</td>\n",
       "    </tr>\n",
       "    <tr>\n",
       "      <th>574909</th>\n",
       "      <td>phys/doc_1866/5/24</td>\n",
       "      <td>.</td>\n",
       "      <td>O</td>\n",
       "    </tr>\n",
       "  </tbody>\n",
       "</table>\n",
       "</div>"
      ],
      "text/plain": [
       "                  token_id           token label\n",
       "574898  phys/doc_1866/5/13      relaxation     O\n",
       "574899  phys/doc_1866/5/14            data  TERM\n",
       "574900  phys/doc_1866/5/15             for     O\n",
       "574901  phys/doc_1866/5/16         voltage  TERM\n",
       "574902  phys/doc_1866/5/17             and     O\n",
       "574903  phys/doc_1866/5/18          charge  TERM\n",
       "574904  phys/doc_1866/5/19        obtained     O\n",
       "574905  phys/doc_1866/5/20            from     O\n",
       "574906  phys/doc_1866/5/21               a     O\n",
       "574907  phys/doc_1866/5/22      commercial     O\n",
       "574908  phys/doc_1866/5/23  supercapacitor  TERM\n",
       "574909  phys/doc_1866/5/24               .     O"
      ]
     },
     "execution_count": 6,
     "metadata": {},
     "output_type": "execute_result"
    }
   ],
   "source": [
    "import matplotlib.pyplot as plt\n",
    "plt.style.use(\"ggplot\")\n",
    "\n",
    "data = pd.read_csv(\"/kaggle/input/jargon/train.csv\")\n",
    "data = data.fillna(method=\"ffill\")\n",
    "data.tail(12)"
   ]
  },
  {
   "cell_type": "markdown",
   "id": "d580bb00",
   "metadata": {
    "papermill": {
     "duration": 0.034746,
     "end_time": "2023-05-02T16:37:00.045197",
     "exception": false,
     "start_time": "2023-05-02T16:37:00.010451",
     "status": "completed"
    },
    "tags": []
   },
   "source": [
    "## check output class balance"
   ]
  },
  {
   "cell_type": "code",
   "execution_count": 7,
   "id": "45dcf777",
   "metadata": {
    "execution": {
     "iopub.execute_input": "2023-05-02T16:37:00.113056Z",
     "iopub.status.busy": "2023-05-02T16:37:00.111883Z",
     "iopub.status.idle": "2023-05-02T16:37:00.155574Z",
     "shell.execute_reply": "2023-05-02T16:37:00.154315Z"
    },
    "papermill": {
     "duration": 0.080366,
     "end_time": "2023-05-02T16:37:00.158365",
     "exception": false,
     "start_time": "2023-05-02T16:37:00.077999",
     "status": "completed"
    },
    "tags": []
   },
   "outputs": [
    {
     "data": {
      "text/plain": [
       "O       520286\n",
       "TERM     54624\n",
       "Name: label, dtype: int64"
      ]
     },
     "execution_count": 7,
     "metadata": {},
     "output_type": "execute_result"
    }
   ],
   "source": [
    "data['label'].value_counts()"
   ]
  },
  {
   "cell_type": "markdown",
   "id": "c0d98980",
   "metadata": {
    "papermill": {
     "duration": 0.03399,
     "end_time": "2023-05-02T16:37:00.226463",
     "exception": false,
     "start_time": "2023-05-02T16:37:00.192473",
     "status": "completed"
    },
    "tags": []
   },
   "source": [
    "### We are not removing class imbalance because it affects token prediction preformance results in validation and test sets"
   ]
  },
  {
   "cell_type": "markdown",
   "id": "76c00189",
   "metadata": {
    "papermill": {
     "duration": 0.032675,
     "end_time": "2023-05-02T16:37:00.293122",
     "exception": false,
     "start_time": "2023-05-02T16:37:00.260447",
     "status": "completed"
    },
    "tags": []
   },
   "source": [
    "## Set up corpus vocabulary and add 'PADword' as a valid token in dictionary for padding"
   ]
  },
  {
   "cell_type": "code",
   "execution_count": 8,
   "id": "7a7979fe",
   "metadata": {
    "execution": {
     "iopub.execute_input": "2023-05-02T16:37:00.362377Z",
     "iopub.status.busy": "2023-05-02T16:37:00.361969Z",
     "iopub.status.idle": "2023-05-02T16:37:00.405383Z",
     "shell.execute_reply": "2023-05-02T16:37:00.403829Z"
    },
    "papermill": {
     "duration": 0.082132,
     "end_time": "2023-05-02T16:37:00.408501",
     "exception": false,
     "start_time": "2023-05-02T16:37:00.326369",
     "status": "completed"
    },
    "tags": []
   },
   "outputs": [
    {
     "data": {
      "text/plain": [
       "29483"
      ]
     },
     "execution_count": 8,
     "metadata": {},
     "output_type": "execute_result"
    }
   ],
   "source": [
    "words = set(list(data['token'].values))\n",
    "words.add('PADword')\n",
    "n_words = len(words)\n",
    "n_words"
   ]
  },
  {
   "cell_type": "markdown",
   "id": "3f99941f",
   "metadata": {
    "papermill": {
     "duration": 0.033439,
     "end_time": "2023-05-02T16:37:00.475887",
     "exception": false,
     "start_time": "2023-05-02T16:37:00.442448",
     "status": "completed"
    },
    "tags": []
   },
   "source": [
    "## set output tags "
   ]
  },
  {
   "cell_type": "code",
   "execution_count": 9,
   "id": "7a711297",
   "metadata": {
    "execution": {
     "iopub.execute_input": "2023-05-02T16:37:00.544956Z",
     "iopub.status.busy": "2023-05-02T16:37:00.544485Z",
     "iopub.status.idle": "2023-05-02T16:37:00.567762Z",
     "shell.execute_reply": "2023-05-02T16:37:00.566167Z"
    },
    "papermill": {
     "duration": 0.061064,
     "end_time": "2023-05-02T16:37:00.570533",
     "exception": false,
     "start_time": "2023-05-02T16:37:00.509469",
     "status": "completed"
    },
    "tags": []
   },
   "outputs": [
    {
     "data": {
      "text/plain": [
       "2"
      ]
     },
     "execution_count": 9,
     "metadata": {},
     "output_type": "execute_result"
    }
   ],
   "source": [
    "tags = list(set(data[\"label\"].values))\n",
    "n_tags = len(tags)\n",
    "n_tags"
   ]
  },
  {
   "cell_type": "markdown",
   "id": "c1a737bf",
   "metadata": {
    "papermill": {
     "duration": 0.033681,
     "end_time": "2023-05-02T16:37:00.638701",
     "exception": false,
     "start_time": "2023-05-02T16:37:00.605020",
     "status": "completed"
    },
    "tags": []
   },
   "source": [
    "## Create unique id to extract sentences based on their token_id"
   ]
  },
  {
   "cell_type": "markdown",
   "id": "0eec8457",
   "metadata": {
    "papermill": {
     "duration": 0.033025,
     "end_time": "2023-05-02T16:37:00.706345",
     "exception": false,
     "start_time": "2023-05-02T16:37:00.673320",
     "status": "completed"
    },
    "tags": []
   },
   "source": [
    "### Create intermediate prefix column from token_id"
   ]
  },
  {
   "cell_type": "code",
   "execution_count": 10,
   "id": "28eff640",
   "metadata": {
    "execution": {
     "iopub.execute_input": "2023-05-02T16:37:00.775743Z",
     "iopub.status.busy": "2023-05-02T16:37:00.774797Z",
     "iopub.status.idle": "2023-05-02T16:37:02.245091Z",
     "shell.execute_reply": "2023-05-02T16:37:02.243331Z"
    },
    "papermill": {
     "duration": 1.508407,
     "end_time": "2023-05-02T16:37:02.247913",
     "exception": false,
     "start_time": "2023-05-02T16:37:00.739506",
     "status": "completed"
    },
    "tags": []
   },
   "outputs": [],
   "source": [
    "data['prefix'] = data['token_id'].apply(lambda x: x.split('/')[:3])\n",
    "data['prefix'] = data['prefix'].apply(lambda x: '/'.join(x))"
   ]
  },
  {
   "cell_type": "markdown",
   "id": "f35815a7",
   "metadata": {
    "papermill": {
     "duration": 0.032869,
     "end_time": "2023-05-02T16:37:02.313646",
     "exception": false,
     "start_time": "2023-05-02T16:37:02.280777",
     "status": "completed"
    },
    "tags": []
   },
   "source": [
    "### Create id column which is unique sentence-wise and not word wise"
   ]
  },
  {
   "cell_type": "code",
   "execution_count": 11,
   "id": "e0c6671c",
   "metadata": {
    "execution": {
     "iopub.execute_input": "2023-05-02T16:37:02.383044Z",
     "iopub.status.busy": "2023-05-02T16:37:02.382314Z",
     "iopub.status.idle": "2023-05-02T16:37:02.784295Z",
     "shell.execute_reply": "2023-05-02T16:37:02.783215Z"
    },
    "papermill": {
     "duration": 0.44092,
     "end_time": "2023-05-02T16:37:02.787226",
     "exception": false,
     "start_time": "2023-05-02T16:37:02.346306",
     "status": "completed"
    },
    "tags": []
   },
   "outputs": [],
   "source": [
    "\n",
    "id_dict = {}\n",
    "id_counter = 0\n",
    "for token_id in data['prefix']:\n",
    "    if token_id not in id_dict:\n",
    "        id_dict[token_id] = id_counter\n",
    "        id_counter += 1\n",
    "\n",
    "# Replace the token IDs in the data with their corresponding integer IDs\n",
    "data[\"id\"] = [id_dict[token_id] for token_id in data[\"prefix\"]]"
   ]
  },
  {
   "cell_type": "markdown",
   "id": "91bec884",
   "metadata": {
    "papermill": {
     "duration": 0.032545,
     "end_time": "2023-05-02T16:37:02.853056",
     "exception": false,
     "start_time": "2023-05-02T16:37:02.820511",
     "status": "completed"
    },
    "tags": []
   },
   "source": [
    "### Unique id column is already present so drop other unused columns"
   ]
  },
  {
   "cell_type": "code",
   "execution_count": 12,
   "id": "eb6b74ab",
   "metadata": {
    "execution": {
     "iopub.execute_input": "2023-05-02T16:37:02.921921Z",
     "iopub.status.busy": "2023-05-02T16:37:02.921127Z",
     "iopub.status.idle": "2023-05-02T16:37:03.024694Z",
     "shell.execute_reply": "2023-05-02T16:37:03.023209Z"
    },
    "papermill": {
     "duration": 0.141938,
     "end_time": "2023-05-02T16:37:03.027716",
     "exception": false,
     "start_time": "2023-05-02T16:37:02.885778",
     "status": "completed"
    },
    "tags": []
   },
   "outputs": [],
   "source": [
    "data = data.drop(['token_id', 'prefix'], axis=1)"
   ]
  },
  {
   "cell_type": "markdown",
   "id": "da3a1dac",
   "metadata": {
    "papermill": {
     "duration": 0.032443,
     "end_time": "2023-05-02T16:37:03.093064",
     "exception": false,
     "start_time": "2023-05-02T16:37:03.060621",
     "status": "completed"
    },
    "tags": []
   },
   "source": [
    "### Check input pre-processed dataframe"
   ]
  },
  {
   "cell_type": "code",
   "execution_count": 13,
   "id": "ef696946",
   "metadata": {
    "execution": {
     "iopub.execute_input": "2023-05-02T16:37:03.160821Z",
     "iopub.status.busy": "2023-05-02T16:37:03.159656Z",
     "iopub.status.idle": "2023-05-02T16:37:03.174367Z",
     "shell.execute_reply": "2023-05-02T16:37:03.173155Z"
    },
    "papermill": {
     "duration": 0.051098,
     "end_time": "2023-05-02T16:37:03.176802",
     "exception": false,
     "start_time": "2023-05-02T16:37:03.125704",
     "status": "completed"
    },
    "tags": []
   },
   "outputs": [
    {
     "data": {
      "text/html": [
       "<div>\n",
       "<style scoped>\n",
       "    .dataframe tbody tr th:only-of-type {\n",
       "        vertical-align: middle;\n",
       "    }\n",
       "\n",
       "    .dataframe tbody tr th {\n",
       "        vertical-align: top;\n",
       "    }\n",
       "\n",
       "    .dataframe thead th {\n",
       "        text-align: right;\n",
       "    }\n",
       "</style>\n",
       "<table border=\"1\" class=\"dataframe\">\n",
       "  <thead>\n",
       "    <tr style=\"text-align: right;\">\n",
       "      <th></th>\n",
       "      <th>token</th>\n",
       "      <th>label</th>\n",
       "      <th>id</th>\n",
       "    </tr>\n",
       "  </thead>\n",
       "  <tbody>\n",
       "    <tr>\n",
       "      <th>0</th>\n",
       "      <td>A</td>\n",
       "      <td>O</td>\n",
       "      <td>0</td>\n",
       "    </tr>\n",
       "    <tr>\n",
       "      <th>1</th>\n",
       "      <td>SHAP</td>\n",
       "      <td>O</td>\n",
       "      <td>0</td>\n",
       "    </tr>\n",
       "    <tr>\n",
       "      <th>2</th>\n",
       "      <td>summary</td>\n",
       "      <td>O</td>\n",
       "      <td>0</td>\n",
       "    </tr>\n",
       "    <tr>\n",
       "      <th>3</th>\n",
       "      <td>plot</td>\n",
       "      <td>TERM</td>\n",
       "      <td>0</td>\n",
       "    </tr>\n",
       "    <tr>\n",
       "      <th>4</th>\n",
       "      <td>shows</td>\n",
       "      <td>O</td>\n",
       "      <td>0</td>\n",
       "    </tr>\n",
       "    <tr>\n",
       "      <th>...</th>\n",
       "      <td>...</td>\n",
       "      <td>...</td>\n",
       "      <td>...</td>\n",
       "    </tr>\n",
       "    <tr>\n",
       "      <th>574905</th>\n",
       "      <td>from</td>\n",
       "      <td>O</td>\n",
       "      <td>21017</td>\n",
       "    </tr>\n",
       "    <tr>\n",
       "      <th>574906</th>\n",
       "      <td>a</td>\n",
       "      <td>O</td>\n",
       "      <td>21017</td>\n",
       "    </tr>\n",
       "    <tr>\n",
       "      <th>574907</th>\n",
       "      <td>commercial</td>\n",
       "      <td>O</td>\n",
       "      <td>21017</td>\n",
       "    </tr>\n",
       "    <tr>\n",
       "      <th>574908</th>\n",
       "      <td>supercapacitor</td>\n",
       "      <td>TERM</td>\n",
       "      <td>21017</td>\n",
       "    </tr>\n",
       "    <tr>\n",
       "      <th>574909</th>\n",
       "      <td>.</td>\n",
       "      <td>O</td>\n",
       "      <td>21017</td>\n",
       "    </tr>\n",
       "  </tbody>\n",
       "</table>\n",
       "<p>574910 rows × 3 columns</p>\n",
       "</div>"
      ],
      "text/plain": [
       "                 token label     id\n",
       "0                    A     O      0\n",
       "1                 SHAP     O      0\n",
       "2              summary     O      0\n",
       "3                 plot  TERM      0\n",
       "4                shows     O      0\n",
       "...                ...   ...    ...\n",
       "574905            from     O  21017\n",
       "574906               a     O  21017\n",
       "574907      commercial     O  21017\n",
       "574908  supercapacitor  TERM  21017\n",
       "574909               .     O  21017\n",
       "\n",
       "[574910 rows x 3 columns]"
      ]
     },
     "execution_count": 13,
     "metadata": {},
     "output_type": "execute_result"
    }
   ],
   "source": [
    "data"
   ]
  },
  {
   "cell_type": "markdown",
   "id": "3c9f5d41",
   "metadata": {
    "papermill": {
     "duration": 0.033913,
     "end_time": "2023-05-02T16:37:03.245162",
     "exception": false,
     "start_time": "2023-05-02T16:37:03.211249",
     "status": "completed"
    },
    "tags": []
   },
   "source": [
    "## Create sentence getter class which returns list of sentences grouping by id"
   ]
  },
  {
   "cell_type": "code",
   "execution_count": 14,
   "id": "5de177b8",
   "metadata": {
    "execution": {
     "iopub.execute_input": "2023-05-02T16:37:03.314646Z",
     "iopub.status.busy": "2023-05-02T16:37:03.313475Z",
     "iopub.status.idle": "2023-05-02T16:37:03.322307Z",
     "shell.execute_reply": "2023-05-02T16:37:03.321124Z"
    },
    "papermill": {
     "duration": 0.045687,
     "end_time": "2023-05-02T16:37:03.324782",
     "exception": false,
     "start_time": "2023-05-02T16:37:03.279095",
     "status": "completed"
    },
    "tags": []
   },
   "outputs": [],
   "source": [
    "class SentenceGetter(object):    \n",
    "    def __init__(self, data):\n",
    "        self.n_sent = 1\n",
    "        self.data = data\n",
    "        self.empty = False\n",
    "        agg_func = lambda s: [(w, t) for w, t in zip(s[\"token\"].values.tolist(),s[\"label\"].values.tolist())]\n",
    "        self.grouped = self.data.groupby(\"id\").apply(agg_func)\n",
    "        self.sentences = [s for s in self.grouped]\n",
    "    \n",
    "    def get_next(self):\n",
    "        try:\n",
    "            s = self.grouped[self.n_sent]\n",
    "            self.n_sent += 1\n",
    "            return s\n",
    "        except:\n",
    "            return None"
   ]
  },
  {
   "cell_type": "markdown",
   "id": "4ad2a9a2",
   "metadata": {
    "papermill": {
     "duration": 0.033941,
     "end_time": "2023-05-02T16:37:03.392723",
     "exception": false,
     "start_time": "2023-05-02T16:37:03.358782",
     "status": "completed"
    },
    "tags": []
   },
   "source": [
    "### Visualize a sentence and check out how each word in a sentence is zipped along with their label"
   ]
  },
  {
   "cell_type": "code",
   "execution_count": 15,
   "id": "c4459140",
   "metadata": {
    "execution": {
     "iopub.execute_input": "2023-05-02T16:37:03.460992Z",
     "iopub.status.busy": "2023-05-02T16:37:03.460538Z",
     "iopub.status.idle": "2023-05-02T16:37:05.350095Z",
     "shell.execute_reply": "2023-05-02T16:37:05.348928Z"
    },
    "papermill": {
     "duration": 1.927059,
     "end_time": "2023-05-02T16:37:05.352965",
     "exception": false,
     "start_time": "2023-05-02T16:37:03.425906",
     "status": "completed"
    },
    "tags": []
   },
   "outputs": [],
   "source": [
    "getter = SentenceGetter(data)"
   ]
  },
  {
   "cell_type": "markdown",
   "id": "6ea8b656",
   "metadata": {
    "papermill": {
     "duration": 0.033339,
     "end_time": "2023-05-02T16:37:05.420264",
     "exception": false,
     "start_time": "2023-05-02T16:37:05.386925",
     "status": "completed"
    },
    "tags": []
   },
   "source": [
    "### Length of largest sentence in the train data"
   ]
  },
  {
   "cell_type": "code",
   "execution_count": 16,
   "id": "f58ad79e",
   "metadata": {
    "execution": {
     "iopub.execute_input": "2023-05-02T16:37:05.488520Z",
     "iopub.status.busy": "2023-05-02T16:37:05.487557Z",
     "iopub.status.idle": "2023-05-02T16:37:05.494021Z",
     "shell.execute_reply": "2023-05-02T16:37:05.492785Z"
    },
    "papermill": {
     "duration": 0.043204,
     "end_time": "2023-05-02T16:37:05.496171",
     "exception": false,
     "start_time": "2023-05-02T16:37:05.452967",
     "status": "completed"
    },
    "tags": []
   },
   "outputs": [
    {
     "name": "stdout",
     "output_type": "stream",
     "text": [
      "[('Figure', 'O'), ('~', 'O'), ('shows', 'O'), ('two', 'O'), ('examples', 'O'), ('of', 'O'), ('SHAP', 'TERM'), ('summary', 'O'), ('plots', 'O'), ('.', 'O')]\n"
     ]
    }
   ],
   "source": [
    "sent = getter.get_next()\n",
    "print(sent)"
   ]
  },
  {
   "cell_type": "markdown",
   "id": "0b9bcda7",
   "metadata": {
    "papermill": {
     "duration": 0.032558,
     "end_time": "2023-05-02T16:37:05.561725",
     "exception": false,
     "start_time": "2023-05-02T16:37:05.529167",
     "status": "completed"
    },
    "tags": []
   },
   "source": [
    "## Find length of biggest sentence"
   ]
  },
  {
   "cell_type": "code",
   "execution_count": 17,
   "id": "6981b397",
   "metadata": {
    "execution": {
     "iopub.execute_input": "2023-05-02T16:37:05.629849Z",
     "iopub.status.busy": "2023-05-02T16:37:05.629022Z",
     "iopub.status.idle": "2023-05-02T16:37:05.641181Z",
     "shell.execute_reply": "2023-05-02T16:37:05.639770Z"
    },
    "papermill": {
     "duration": 0.048881,
     "end_time": "2023-05-02T16:37:05.643417",
     "exception": false,
     "start_time": "2023-05-02T16:37:05.594536",
     "status": "completed"
    },
    "tags": []
   },
   "outputs": [
    {
     "name": "stdout",
     "output_type": "stream",
     "text": [
      "biggest sentence has 344 words\n"
     ]
    }
   ],
   "source": [
    "sentences = getter.sentences\n",
    "largest_sen = max(len(sen) for sen in sentences)\n",
    "print('biggest sentence has {} words'.format(largest_sen))"
   ]
  },
  {
   "cell_type": "markdown",
   "id": "a627d03a",
   "metadata": {
    "papermill": {
     "duration": 0.032986,
     "end_time": "2023-05-02T16:37:05.710044",
     "exception": false,
     "start_time": "2023-05-02T16:37:05.677058",
     "status": "completed"
    },
    "tags": []
   },
   "source": [
    "## Plot sentence length distribution"
   ]
  },
  {
   "cell_type": "code",
   "execution_count": 18,
   "id": "5ac7e336",
   "metadata": {
    "execution": {
     "iopub.execute_input": "2023-05-02T16:37:05.778111Z",
     "iopub.status.busy": "2023-05-02T16:37:05.777579Z",
     "iopub.status.idle": "2023-05-02T16:37:06.556773Z",
     "shell.execute_reply": "2023-05-02T16:37:06.555883Z"
    },
    "papermill": {
     "duration": 0.816409,
     "end_time": "2023-05-02T16:37:06.559241",
     "exception": false,
     "start_time": "2023-05-02T16:37:05.742832",
     "status": "completed"
    },
    "tags": []
   },
   "outputs": [
    {
     "data": {
      "image/png": "[encoded data removed]",
      "text/plain": [
       "<Figure size 640x480 with 1 Axes>"
      ]
     },
     "metadata": {},
     "output_type": "display_data"
    }
   ],
   "source": [
    "%matplotlib inline\n",
    "import matplotlib.pyplot as plt\n",
    "\n",
    "sent_lengths = [len(sen) for sen in sentences]\n",
    "max_len = max(sent_lengths)\n",
    "min_len = min(sent_lengths)\n",
    "freq = sent_lengths.count(max_len)\n",
    "\n",
    "plt.hist(sent_lengths, bins=100)\n",
    "plt.xlim([min_len-10, max_len+10])\n",
    "plt.xlabel('Sentence Length')\n",
    "plt.ylabel('Frequency')\n",
    "plt.title('Distribution of Sentence Lengths')\n",
    "plt.savefig('DistSentLen.png')  # Save plot as PNG file\n",
    "plt.show()"
   ]
  },
  {
   "cell_type": "markdown",
   "id": "aff5086e",
   "metadata": {
    "papermill": {
     "duration": 0.033466,
     "end_time": "2023-05-02T16:37:06.626652",
     "exception": false,
     "start_time": "2023-05-02T16:37:06.593186",
     "status": "completed"
    },
    "tags": []
   },
   "source": [
    "## Create word to index and tag to index dictionaries"
   ]
  },
  {
   "cell_type": "code",
   "execution_count": 19,
   "id": "bef817a1",
   "metadata": {
    "execution": {
     "iopub.execute_input": "2023-05-02T16:37:06.696027Z",
     "iopub.status.busy": "2023-05-02T16:37:06.695538Z",
     "iopub.status.idle": "2023-05-02T16:37:06.712688Z",
     "shell.execute_reply": "2023-05-02T16:37:06.711132Z"
    },
    "papermill": {
     "duration": 0.055423,
     "end_time": "2023-05-02T16:37:06.715497",
     "exception": false,
     "start_time": "2023-05-02T16:37:06.660074",
     "status": "completed"
    },
    "tags": []
   },
   "outputs": [
    {
     "name": "stdout",
     "output_type": "stream",
     "text": [
      "1\n"
     ]
    }
   ],
   "source": [
    "words2index = {w:i for i,w in enumerate(words)}\n",
    "tags2index = {t:i for i,t in enumerate(tags)}\n",
    "\n",
    "tags2index['TERM'] = 1\n",
    "tags2index['O'] = 0\n",
    "print(tags2index['TERM'])"
   ]
  },
  {
   "cell_type": "markdown",
   "id": "f06870b8",
   "metadata": {
    "papermill": {
     "duration": 0.033943,
     "end_time": "2023-05-02T16:37:06.783475",
     "exception": false,
     "start_time": "2023-05-02T16:37:06.749532",
     "status": "completed"
    },
    "tags": []
   },
   "source": [
    "## Create a list of sentences and prepare X_train, y_train\n",
    "### Steps are as follows: \n",
    "#### 1. Set a maximum length for the sequences as 25, \n",
    "#### 2. Extract the words and their corresponding tags from the input sentences. \n",
    "#### 3. Create new sequences that are either shorter or equal to the maximum length by either breaking down the sentence into smaller sentences or padding the original sentence with \"PADword\" to make it the same length as the maximum length. \n",
    "#### 4. The resulting X_train and y_train variables contain the padded or broken-down sentences and their corresponding labels, respectively. \n",
    "#### 5. Finally, the padwordCount_sentwise variable stores the number of \"PADword\" paddings added to each sentence, which we use later in the code."
   ]
  },
  {
   "cell_type": "code",
   "execution_count": 20,
   "id": "12ac7601",
   "metadata": {
    "execution": {
     "iopub.execute_input": "2023-05-02T16:37:06.856005Z",
     "iopub.status.busy": "2023-05-02T16:37:06.854607Z",
     "iopub.status.idle": "2023-05-02T16:37:07.197237Z",
     "shell.execute_reply": "2023-05-02T16:37:07.195885Z"
    },
    "papermill": {
     "duration": 0.382812,
     "end_time": "2023-05-02T16:37:07.200313",
     "exception": false,
     "start_time": "2023-05-02T16:37:06.817501",
     "status": "completed"
    },
    "tags": []
   },
   "outputs": [],
   "source": [
    "max_len = 25\n",
    "X = [[w[0] for w in s] for s in sentences] # list of sentences with words or 'PADword'\n",
    "y = [[tags2index[w[1]] for w in s] for s in sentences] # list of labels for every word corresponding to sentences\n",
    "X_train = [] \n",
    "y_train = [] \n",
    "padwordCount_sentwise = [] # count of padwords sentence wise\n",
    "\n",
    "for seq_x, seq_y in zip(X, y):\n",
    "    if len(seq_x) > max_len:\n",
    "        # Break sentence into temporary list of sentences of size 25 or less\n",
    "        temp_seq_x = []\n",
    "        temp_seq_y = []\n",
    "        while len(seq_x) > max_len:\n",
    "            temp_seq_x.append(seq_x[:max_len])\n",
    "            temp_seq_y.append(seq_y[:max_len])\n",
    "            seq_x = seq_x[max_len:]\n",
    "            seq_y = seq_y[max_len:]\n",
    "        temp_seq_x.append(seq_x)\n",
    "        temp_seq_y.append(seq_y)\n",
    "\n",
    "        # Create an entry in for each sentence and add corresponding padwords count\n",
    "        for temp_x, temp_y in zip(temp_seq_x, temp_seq_y):\n",
    "            new_seq_x = temp_x + [\"PADword\"] * (max_len - len(temp_x))\n",
    "            new_seq_y = temp_y + [0] * (max_len - len(temp_y))\n",
    "            X_train.append(new_seq_x)\n",
    "            y_train.append(new_seq_y)\n",
    "            padwordCount_sentwise.append(len([word for word in new_seq_x if word == \"PADword\"]))\n",
    "\n",
    "    elif len(seq_x) < max_len:\n",
    "        # Pad sentence with 'PADword' to make it max_len in length\n",
    "        new_seq_x = seq_x + [\"PADword\"] * (max_len - len(seq_x))\n",
    "        new_seq_y = seq_y + [0] * (max_len - len(seq_y))\n",
    "        X_train.append(new_seq_x)\n",
    "        y_train.append(new_seq_y)\n",
    "        padwordCount_sentwise.append(len([word for word in new_seq_x if word == \"PADword\"]))\n",
    "\n",
    "    else:\n",
    "        # Sentence length is already max_len, just add to new_X and new_y, and padwords count as 0\n",
    "        X_train.append(seq_x)\n",
    "        y_train.append(seq_y)\n",
    "        padwordCount_sentwise.append(0)\n"
   ]
  },
  {
   "cell_type": "markdown",
   "id": "ca334245",
   "metadata": {
    "papermill": {
     "duration": 0.034178,
     "end_time": "2023-05-02T16:37:07.270428",
     "exception": false,
     "start_time": "2023-05-02T16:37:07.236250",
     "status": "completed"
    },
    "tags": []
   },
   "source": [
    "## Post data wrangling we got the below # sentences "
   ]
  },
  {
   "cell_type": "code",
   "execution_count": 21,
   "id": "3e164f1c",
   "metadata": {
    "execution": {
     "iopub.execute_input": "2023-05-02T16:37:07.340771Z",
     "iopub.status.busy": "2023-05-02T16:37:07.340075Z",
     "iopub.status.idle": "2023-05-02T16:37:07.346537Z",
     "shell.execute_reply": "2023-05-02T16:37:07.344944Z"
    },
    "papermill": {
     "duration": 0.044608,
     "end_time": "2023-05-02T16:37:07.349131",
     "exception": false,
     "start_time": "2023-05-02T16:37:07.304523",
     "status": "completed"
    },
    "tags": []
   },
   "outputs": [
    {
     "name": "stdout",
     "output_type": "stream",
     "text": [
      "X shape : 32777\n",
      "y shape : 32777\n"
     ]
    }
   ],
   "source": [
    "print(f\"X shape : {len(X_train)}\")\n",
    "print(f\"y shape : {len(y_train)}\")"
   ]
  },
  {
   "cell_type": "code",
   "execution_count": 22,
   "id": "cd591c71",
   "metadata": {
    "execution": {
     "iopub.execute_input": "2023-05-02T16:37:07.419247Z",
     "iopub.status.busy": "2023-05-02T16:37:07.418790Z",
     "iopub.status.idle": "2023-05-02T16:37:07.426575Z",
     "shell.execute_reply": "2023-05-02T16:37:07.425196Z"
    },
    "papermill": {
     "duration": 0.04614,
     "end_time": "2023-05-02T16:37:07.428874",
     "exception": false,
     "start_time": "2023-05-02T16:37:07.382734",
     "status": "completed"
    },
    "tags": []
   },
   "outputs": [
    {
     "data": {
      "text/plain": [
       "['A',\n",
       " 'SHAP',\n",
       " 'summary',\n",
       " 'plot',\n",
       " 'shows',\n",
       " 'the',\n",
       " 'SHAP',\n",
       " 'value',\n",
       " 'of',\n",
       " 'features',\n",
       " 'for',\n",
       " 'individual',\n",
       " 'data',\n",
       " 'points',\n",
       " '.',\n",
       " 'PADword',\n",
       " 'PADword',\n",
       " 'PADword',\n",
       " 'PADword',\n",
       " 'PADword',\n",
       " 'PADword',\n",
       " 'PADword',\n",
       " 'PADword',\n",
       " 'PADword',\n",
       " 'PADword']"
      ]
     },
     "execution_count": 22,
     "metadata": {},
     "output_type": "execute_result"
    }
   ],
   "source": [
    "X_train[0]"
   ]
  },
  {
   "cell_type": "markdown",
   "id": "09a907dd",
   "metadata": {
    "papermill": {
     "duration": 0.033557,
     "end_time": "2023-05-02T16:37:07.496617",
     "exception": false,
     "start_time": "2023-05-02T16:37:07.463060",
     "status": "completed"
    },
    "tags": []
   },
   "source": [
    "# transform y_train to one-hot encoding for calculating loss "
   ]
  },
  {
   "cell_type": "code",
   "execution_count": 23,
   "id": "657a197f",
   "metadata": {
    "execution": {
     "iopub.execute_input": "2023-05-02T16:37:07.567313Z",
     "iopub.status.busy": "2023-05-02T16:37:07.566822Z",
     "iopub.status.idle": "2023-05-02T16:37:07.643688Z",
     "shell.execute_reply": "2023-05-02T16:37:07.642433Z"
    },
    "papermill": {
     "duration": 0.115963,
     "end_time": "2023-05-02T16:37:07.646533",
     "exception": false,
     "start_time": "2023-05-02T16:37:07.530570",
     "status": "completed"
    },
    "tags": []
   },
   "outputs": [],
   "source": [
    "from keras.utils import to_categorical\n",
    "\n",
    "# Apply one-hot encoding\n",
    "y_train_one_hot = to_categorical(y_train, num_classes=2)"
   ]
  },
  {
   "cell_type": "code",
   "execution_count": 24,
   "id": "3c6b7b35",
   "metadata": {
    "execution": {
     "iopub.execute_input": "2023-05-02T16:37:07.716338Z",
     "iopub.status.busy": "2023-05-02T16:37:07.715894Z",
     "iopub.status.idle": "2023-05-02T16:37:07.724294Z",
     "shell.execute_reply": "2023-05-02T16:37:07.723176Z"
    },
    "papermill": {
     "duration": 0.046338,
     "end_time": "2023-05-02T16:37:07.726788",
     "exception": false,
     "start_time": "2023-05-02T16:37:07.680450",
     "status": "completed"
    },
    "tags": []
   },
   "outputs": [
    {
     "data": {
      "text/plain": [
       "array([[1., 0.],\n",
       "       [1., 0.],\n",
       "       [1., 0.],\n",
       "       [0., 1.],\n",
       "       [1., 0.],\n",
       "       [1., 0.],\n",
       "       [1., 0.],\n",
       "       [0., 1.],\n",
       "       [1., 0.],\n",
       "       [1., 0.],\n",
       "       [1., 0.],\n",
       "       [1., 0.],\n",
       "       [1., 0.],\n",
       "       [1., 0.],\n",
       "       [1., 0.],\n",
       "       [1., 0.],\n",
       "       [1., 0.],\n",
       "       [1., 0.],\n",
       "       [1., 0.],\n",
       "       [1., 0.],\n",
       "       [1., 0.],\n",
       "       [1., 0.],\n",
       "       [1., 0.],\n",
       "       [1., 0.],\n",
       "       [1., 0.]], dtype=float32)"
      ]
     },
     "execution_count": 24,
     "metadata": {},
     "output_type": "execute_result"
    }
   ],
   "source": [
    "y_train_one_hot[0]"
   ]
  },
  {
   "cell_type": "code",
   "execution_count": 25,
   "id": "f65a0e82",
   "metadata": {
    "execution": {
     "iopub.execute_input": "2023-05-02T16:37:07.798357Z",
     "iopub.status.busy": "2023-05-02T16:37:07.797910Z",
     "iopub.status.idle": "2023-05-02T16:37:07.804733Z",
     "shell.execute_reply": "2023-05-02T16:37:07.803760Z"
    },
    "papermill": {
     "duration": 0.044552,
     "end_time": "2023-05-02T16:37:07.806922",
     "exception": false,
     "start_time": "2023-05-02T16:37:07.762370",
     "status": "completed"
    },
    "tags": []
   },
   "outputs": [
    {
     "data": {
      "text/plain": [
       "[0, 0, 0, 1, 0, 0, 0, 1, 0, 0, 0, 0, 0, 0, 0, 0, 0, 0, 0, 0, 0, 0, 0, 0, 0]"
      ]
     },
     "execution_count": 25,
     "metadata": {},
     "output_type": "execute_result"
    }
   ],
   "source": [
    "y_train[0]"
   ]
  },
  {
   "cell_type": "markdown",
   "id": "ad193066",
   "metadata": {
    "papermill": {
     "duration": 0.03382,
     "end_time": "2023-05-02T16:37:07.874912",
     "exception": false,
     "start_time": "2023-05-02T16:37:07.841092",
     "status": "completed"
    },
    "tags": []
   },
   "source": [
    "## Print X-train and y-train shape and len"
   ]
  },
  {
   "cell_type": "code",
   "execution_count": 26,
   "id": "5935eba1",
   "metadata": {
    "execution": {
     "iopub.execute_input": "2023-05-02T16:37:07.945796Z",
     "iopub.status.busy": "2023-05-02T16:37:07.945334Z",
     "iopub.status.idle": "2023-05-02T16:37:07.953203Z",
     "shell.execute_reply": "2023-05-02T16:37:07.951347Z"
    },
    "papermill": {
     "duration": 0.046741,
     "end_time": "2023-05-02T16:37:07.955760",
     "exception": false,
     "start_time": "2023-05-02T16:37:07.909019",
     "status": "completed"
    },
    "tags": []
   },
   "outputs": [
    {
     "name": "stdout",
     "output_type": "stream",
     "text": [
      "y_train: 32777, 25\n",
      "X_train: 32777, 25\n",
      "y_train: <class 'list'>\n",
      "X_train: <class 'list'>\n"
     ]
    }
   ],
   "source": [
    "print(f\"y_train: {len(y_train)}, {len(y_train[0])}\")\n",
    "print(f\"X_train: {len(X_train)}, {len(X_train[0])}\")\n",
    "print(f\"y_train: {type(y_train)}\")\n",
    "print(f\"X_train: {type(X_train)}\")"
   ]
  },
  {
   "cell_type": "markdown",
   "id": "1a566cbd",
   "metadata": {
    "papermill": {
     "duration": 0.033971,
     "end_time": "2023-05-02T16:37:08.024172",
     "exception": false,
     "start_time": "2023-05-02T16:37:07.990201",
     "status": "completed"
    },
    "tags": []
   },
   "source": [
    "## import keras backend libraries\n",
    "### Load the pre-trained ELMo model from TensorFlow Hub using the hub.Module() function. The trainable parameter is set to True, which allows fine-tuning of the pre-trained model during training."
   ]
  },
  {
   "cell_type": "code",
   "execution_count": 27,
   "id": "7b1f4a3e",
   "metadata": {
    "execution": {
     "iopub.execute_input": "2023-05-02T16:37:08.094808Z",
     "iopub.status.busy": "2023-05-02T16:37:08.094423Z",
     "iopub.status.idle": "2023-05-02T16:37:13.444181Z",
     "shell.execute_reply": "2023-05-02T16:37:13.442805Z"
    },
    "papermill": {
     "duration": 5.388475,
     "end_time": "2023-05-02T16:37:13.447107",
     "exception": false,
     "start_time": "2023-05-02T16:37:08.058632",
     "status": "completed"
    },
    "tags": []
   },
   "outputs": [
    {
     "name": "stderr",
     "output_type": "stream",
     "text": [
      "2023-05-02 16:37:08.098443: E tensorflow/stream_executor/cuda/cuda_driver.cc:318] failed call to cuInit: UNKNOWN ERROR (303)\n"
     ]
    }
   ],
   "source": [
    "from keras import backend as K\n",
    "sess = tf.Session()\n",
    "K.set_session(sess)\n",
    "elmo_model = hub.Module(\"https://tfhub.dev/google/elmo/2\", trainable=True)\n",
    "sess.run(tf.global_variables_initializer())\n",
    "sess.run(tf.tables_initializer())"
   ]
  },
  {
   "cell_type": "markdown",
   "id": "baadf73c",
   "metadata": {
    "papermill": {
     "duration": 0.044709,
     "end_time": "2023-05-02T16:37:13.526906",
     "exception": false,
     "start_time": "2023-05-02T16:37:13.482197",
     "status": "completed"
    },
    "tags": []
   },
   "source": [
    "## Define Elmo Embedding layer"
   ]
  },
  {
   "cell_type": "code",
   "execution_count": 28,
   "id": "f887fb93",
   "metadata": {
    "execution": {
     "iopub.execute_input": "2023-05-02T16:37:13.608483Z",
     "iopub.status.busy": "2023-05-02T16:37:13.607749Z",
     "iopub.status.idle": "2023-05-02T16:37:13.613719Z",
     "shell.execute_reply": "2023-05-02T16:37:13.612421Z"
    },
    "papermill": {
     "duration": 0.04903,
     "end_time": "2023-05-02T16:37:13.616212",
     "exception": false,
     "start_time": "2023-05-02T16:37:13.567182",
     "status": "completed"
    },
    "tags": []
   },
   "outputs": [],
   "source": [
    "def ElmoEmbedding(tokens_input):\n",
    "    return elmo_model(inputs={\"tokens\": tf.squeeze(tf.cast(tokens_input,tf.string)),\"sequence_len\": tf.constant(batch_size*[max_len])},signature=\"tokens\",as_dict=True)[\"elmo\"]\n"
   ]
  },
  {
   "cell_type": "markdown",
   "id": "0e0aea6b",
   "metadata": {
    "papermill": {
     "duration": 0.034176,
     "end_time": "2023-05-02T16:37:13.685180",
     "exception": false,
     "start_time": "2023-05-02T16:37:13.651004",
     "status": "completed"
    },
    "tags": []
   },
   "source": [
    "## install keras-contrib for crf layer"
   ]
  },
  {
   "cell_type": "code",
   "execution_count": 29,
   "id": "753ae939",
   "metadata": {
    "execution": {
     "iopub.execute_input": "2023-05-02T16:37:13.756517Z",
     "iopub.status.busy": "2023-05-02T16:37:13.755465Z",
     "iopub.status.idle": "2023-05-02T16:37:28.348795Z",
     "shell.execute_reply": "2023-05-02T16:37:28.347094Z"
    },
    "papermill": {
     "duration": 14.63275,
     "end_time": "2023-05-02T16:37:28.352065",
     "exception": false,
     "start_time": "2023-05-02T16:37:13.719315",
     "status": "completed"
    },
    "tags": []
   },
   "outputs": [
    {
     "name": "stdout",
     "output_type": "stream",
     "text": [
      "Collecting git+https://www.github.com/keras-team/keras-contrib.git\r\n",
      "  Cloning https://www.github.com/keras-team/keras-contrib.git to /tmp/pip-req-build-tif5_e6v\r\n",
      "  Running command git clone --filter=blob:none --quiet https://www.github.com/keras-team/keras-contrib.git /tmp/pip-req-build-tif5_e6v\r\n",
      "  warning: redirecting to https://github.com/keras-team/keras-contrib.git/\r\n",
      "  Resolved https://www.github.com/keras-team/keras-contrib.git to commit 3fc5ef709e061416f4bc8a92ca3750c824b5d2b0\r\n",
      "  Preparing metadata (setup.py) ... \u001b[?25l-\b \bdone\r\n",
      "\u001b[?25hRequirement already satisfied: keras in /opt/conda/lib/python3.7/site-packages (from keras-contrib==2.0.8) (2.1.6)\r\n",
      "Requirement already satisfied: h5py in /opt/conda/lib/python3.7/site-packages (from keras->keras-contrib==2.0.8) (2.10.0)\r\n",
      "Requirement already satisfied: six>=1.9.0 in /opt/conda/lib/python3.7/site-packages (from keras->keras-contrib==2.0.8) (1.16.0)\r\n",
      "Requirement already satisfied: scipy>=0.14 in /opt/conda/lib/python3.7/site-packages (from keras->keras-contrib==2.0.8) (1.7.3)\r\n",
      "Requirement already satisfied: pyyaml in /opt/conda/lib/python3.7/site-packages (from keras->keras-contrib==2.0.8) (6.0)\r\n",
      "Requirement already satisfied: numpy>=1.9.1 in /opt/conda/lib/python3.7/site-packages (from keras->keras-contrib==2.0.8) (1.21.6)\r\n",
      "Building wheels for collected packages: keras-contrib\r\n",
      "  Building wheel for keras-contrib (setup.py) ... \u001b[?25l-\b \b\\\b \bdone\r\n",
      "\u001b[?25h  Created wheel for keras-contrib: filename=keras_contrib-2.0.8-py3-none-any.whl size=101076 sha256=876690d5a6e96d5b0fcd7fa0b279d97a0d456c32c06ee15fd947e6d8e85c303b\r\n",
      "  Stored in directory: /tmp/pip-ephem-wheel-cache-b09rjg1p/wheels/bb/1f/f2/b57495012683b6b20bbae94a3915ec79753111452d79886abc\r\n",
      "Successfully built keras-contrib\r\n",
      "Installing collected packages: keras-contrib\r\n",
      "Successfully installed keras-contrib-2.0.8\r\n",
      "\u001b[33mWARNING: Running pip as the 'root' user can result in broken permissions and conflicting behaviour with the system package manager. It is recommended to use a virtual environment instead: https://pip.pypa.io/warnings/venv\u001b[0m\u001b[33m\r\n",
      "\u001b[0m"
     ]
    }
   ],
   "source": [
    "!pip install git+https://www.github.com/keras-team/keras-contrib.git"
   ]
  },
  {
   "cell_type": "markdown",
   "id": "02b735b6",
   "metadata": {
    "papermill": {
     "duration": 0.037139,
     "end_time": "2023-05-02T16:37:28.424603",
     "exception": false,
     "start_time": "2023-05-02T16:37:28.387464",
     "status": "completed"
    },
    "tags": []
   },
   "source": [
    "# Define model and train"
   ]
  },
  {
   "cell_type": "markdown",
   "id": "ff2c3a82",
   "metadata": {
    "papermill": {
     "duration": 0.036134,
     "end_time": "2023-05-02T16:37:28.497319",
     "exception": false,
     "start_time": "2023-05-02T16:37:28.461185",
     "status": "completed"
    },
    "tags": []
   },
   "source": [
    "## importing required Keras modules"
   ]
  },
  {
   "cell_type": "code",
   "execution_count": 30,
   "id": "9e736686",
   "metadata": {
    "execution": {
     "iopub.execute_input": "2023-05-02T16:37:28.570818Z",
     "iopub.status.busy": "2023-05-02T16:37:28.570338Z",
     "iopub.status.idle": "2023-05-02T16:37:28.577032Z",
     "shell.execute_reply": "2023-05-02T16:37:28.575782Z"
    },
    "papermill": {
     "duration": 0.04586,
     "end_time": "2023-05-02T16:37:28.579428",
     "exception": false,
     "start_time": "2023-05-02T16:37:28.533568",
     "status": "completed"
    },
    "tags": []
   },
   "outputs": [],
   "source": [
    "from keras.models import Model, Input # for defining a Keras model and its input\n",
    "from keras.layers.merge import add # for merging layers\n",
    "from keras.layers import LSTM, Embedding, Dense, TimeDistributed, Dropout, Bidirectional, Lambda # for defining different layers in a Keras model\n"
   ]
  },
  {
   "cell_type": "markdown",
   "id": "650d5575",
   "metadata": {
    "papermill": {
     "duration": 0.034834,
     "end_time": "2023-05-02T16:37:28.649622",
     "exception": false,
     "start_time": "2023-05-02T16:37:28.614788",
     "status": "completed"
    },
    "tags": []
   },
   "source": [
    "## Define elmo + bi-lstm model\n",
    "\n",
    "### Steps:\n",
    "#### 1. The input to the model is a sequence of strings of maximum length max_len, which is then passed through a pre-trained Elmo embedding layer to obtain a sequence of dense embeddings. \n",
    "#### 2. The embedding sequence is then passed through two Bidirectional LSTM layers, each with 512 hidden units, recurrent dropout of 0.2, and a dropout rate of 0.2. \n",
    "#### 3. The output of the two LSTM layers is added element-wise to form a residual connection to the first biLSTM layer. \n",
    "#### 4. TimeDistributed layer with a sigmoid activation and 2 units is used to predict the binary labels (technical jargon or not) for each word in the input sequence."
   ]
  },
  {
   "cell_type": "code",
   "execution_count": 31,
   "id": "96408a33",
   "metadata": {
    "execution": {
     "iopub.execute_input": "2023-05-02T16:37:28.721747Z",
     "iopub.status.busy": "2023-05-02T16:37:28.721273Z",
     "iopub.status.idle": "2023-05-02T16:37:32.536762Z",
     "shell.execute_reply": "2023-05-02T16:37:32.535373Z"
    },
    "papermill": {
     "duration": 3.855234,
     "end_time": "2023-05-02T16:37:32.539831",
     "exception": false,
     "start_time": "2023-05-02T16:37:28.684597",
     "status": "completed"
    },
    "tags": []
   },
   "outputs": [],
   "source": [
    "input_layer = Input(shape=(max_len,), \n",
    "                    dtype=tf.string, \n",
    "                    name='input_layer')\n",
    "\n",
    "elmo_embeddings = Lambda(ElmoEmbedding, \n",
    "                   output_shape=(max_len, 1024),\n",
    "                   name='elmo_embeddings')(input_layer)\n",
    "\n",
    "lstm_1 = Bidirectional(LSTM(units=512, \n",
    "                             return_sequences=True, \n",
    "                             recurrent_dropout=0.2, \n",
    "                             dropout=0.2, \n",
    "                             name='lstm1'),name='Bi-LSTM1')(elmo_embeddings)\n",
    "\n",
    "lstm_2 = Bidirectional(LSTM(units=512, \n",
    "                            return_sequences=True,\n",
    "                            recurrent_dropout=0.2, \n",
    "                            dropout=0.2,\n",
    "                            name='lstm2'),name='Bi-LSTM2')(lstm_1)\n",
    "\n",
    "lstm = add([lstm_1, lstm_2], name='add_LSTMs')  # residual connection to the first biLSTM\n",
    "\n",
    "output = TimeDistributed(Dense(2, \n",
    "                               activation='sigmoid', \n",
    "                               name='dense'), name='TD-Dense')(lstm)\n",
    "\n",
    "tech_jargon_model = Model(inputs=input_layer, \n",
    "                          outputs=output)"
   ]
  },
  {
   "cell_type": "markdown",
   "id": "a19dcc4f",
   "metadata": {
    "papermill": {
     "duration": 0.034931,
     "end_time": "2023-05-02T16:37:32.610483",
     "exception": false,
     "start_time": "2023-05-02T16:37:32.575552",
     "status": "completed"
    },
    "tags": []
   },
   "source": [
    "## print model summary"
   ]
  },
  {
   "cell_type": "code",
   "execution_count": 32,
   "id": "22b9042a",
   "metadata": {
    "execution": {
     "iopub.execute_input": "2023-05-02T16:37:32.684126Z",
     "iopub.status.busy": "2023-05-02T16:37:32.683446Z",
     "iopub.status.idle": "2023-05-02T16:37:32.690377Z",
     "shell.execute_reply": "2023-05-02T16:37:32.689149Z"
    },
    "papermill": {
     "duration": 0.050429,
     "end_time": "2023-05-02T16:37:32.696514",
     "exception": false,
     "start_time": "2023-05-02T16:37:32.646085",
     "status": "completed"
    },
    "tags": []
   },
   "outputs": [
    {
     "name": "stdout",
     "output_type": "stream",
     "text": [
      "__________________________________________________________________________________________________\n",
      "Layer (type)                    Output Shape         Param #     Connected to                     \n",
      "==================================================================================================\n",
      "input_layer (InputLayer)        (None, 25)           0                                            \n",
      "__________________________________________________________________________________________________\n",
      "elmo_embeddings (Lambda)        (None, 25, 1024)     0           input_layer[0][0]                \n",
      "__________________________________________________________________________________________________\n",
      "Bi-LSTM1 (Bidirectional)        (None, 25, 1024)     6295552     elmo_embeddings[0][0]            \n",
      "__________________________________________________________________________________________________\n",
      "Bi-LSTM2 (Bidirectional)        (None, 25, 1024)     6295552     Bi-LSTM1[0][0]                   \n",
      "__________________________________________________________________________________________________\n",
      "add_LSTMs (Add)                 (None, 25, 1024)     0           Bi-LSTM1[0][0]                   \n",
      "                                                                 Bi-LSTM2[0][0]                   \n",
      "__________________________________________________________________________________________________\n",
      "TD-Dense (TimeDistributed)      (None, 25, 2)        2050        add_LSTMs[0][0]                  \n",
      "==================================================================================================\n",
      "Total params: 12,593,154\n",
      "Trainable params: 12,593,154\n",
      "Non-trainable params: 0\n",
      "__________________________________________________________________________________________________\n"
     ]
    }
   ],
   "source": [
    "#Print the summary\n",
    "tech_jargon_model.summary()"
   ]
  },
  {
   "cell_type": "markdown",
   "id": "f953fc68",
   "metadata": {
    "papermill": {
     "duration": 0.035971,
     "end_time": "2023-05-02T16:37:32.771032",
     "exception": false,
     "start_time": "2023-05-02T16:37:32.735061",
     "status": "completed"
    },
    "tags": []
   },
   "source": [
    "## plot and save the model architecture"
   ]
  },
  {
   "cell_type": "code",
   "execution_count": 33,
   "id": "1fa6239f",
   "metadata": {
    "execution": {
     "iopub.execute_input": "2023-05-02T16:37:32.847624Z",
     "iopub.status.busy": "2023-05-02T16:37:32.847184Z",
     "iopub.status.idle": "2023-05-02T16:37:32.852790Z",
     "shell.execute_reply": "2023-05-02T16:37:32.851349Z"
    },
    "papermill": {
     "duration": 0.047676,
     "end_time": "2023-05-02T16:37:32.855492",
     "exception": false,
     "start_time": "2023-05-02T16:37:32.807816",
     "status": "completed"
    },
    "tags": []
   },
   "outputs": [],
   "source": [
    "from keras.utils import plot_model"
   ]
  },
  {
   "cell_type": "code",
   "execution_count": 34,
   "id": "4995b24f",
   "metadata": {
    "execution": {
     "iopub.execute_input": "2023-05-02T16:37:32.928898Z",
     "iopub.status.busy": "2023-05-02T16:37:32.928436Z",
     "iopub.status.idle": "2023-05-02T16:37:33.196707Z",
     "shell.execute_reply": "2023-05-02T16:37:33.195143Z"
    },
    "papermill": {
     "duration": 0.308797,
     "end_time": "2023-05-02T16:37:33.199778",
     "exception": false,
     "start_time": "2023-05-02T16:37:32.890981",
     "status": "completed"
    },
    "tags": []
   },
   "outputs": [],
   "source": [
    "plot_model(tech_jargon_model, show_shapes=True, show_layer_names=True, to_file='jargonDetectionModelSummary.png')"
   ]
  },
  {
   "cell_type": "markdown",
   "id": "200d81d2",
   "metadata": {
    "papermill": {
     "duration": 0.035612,
     "end_time": "2023-05-02T16:37:33.272340",
     "exception": false,
     "start_time": "2023-05-02T16:37:33.236728",
     "status": "completed"
    },
    "tags": []
   },
   "source": [
    "## add padding to match batch size of last batch"
   ]
  },
  {
   "cell_type": "code",
   "execution_count": 35,
   "id": "72060970",
   "metadata": {
    "execution": {
     "iopub.execute_input": "2023-05-02T16:37:33.348146Z",
     "iopub.status.busy": "2023-05-02T16:37:33.347637Z",
     "iopub.status.idle": "2023-05-02T16:37:33.364448Z",
     "shell.execute_reply": "2023-05-02T16:37:33.362352Z"
    },
    "papermill": {
     "duration": 0.057356,
     "end_time": "2023-05-02T16:37:33.367084",
     "exception": false,
     "start_time": "2023-05-02T16:37:33.309728",
     "status": "completed"
    },
    "tags": []
   },
   "outputs": [
    {
     "name": "stdout",
     "output_type": "stream",
     "text": [
      "Extra sentences needed to pad: 23\n",
      "X_train shape: 32800\n",
      "y_train shape: (32800, 25, 2)\n"
     ]
    }
   ],
   "source": [
    "# Define the number of sentences to generate\n",
    "num_sentences = batch_size-(len(X_train)%batch_size)\n",
    "print(f\"Extra sentences needed to pad: {num_sentences}\")\n",
    "# Define the length of each sentence\n",
    "sentence_length = 25\n",
    "\n",
    "# Generate the sentences\n",
    "sentences = [['PADword' for _ in range(sentence_length)] for _ in range(num_sentences)]\n",
    "\n",
    "# Add the sentences to X_tr\n",
    "X_train.extend(sentences)\n",
    "# Add the rows to y_tr\n",
    "# Create an array of zeros with shape (num_rows, 25, 2)\n",
    "vec = np.array([1., 0.])  # original vector\n",
    "multidim_vec = np.tile(vec, (num_sentences, 25, 1))\n",
    "\n",
    "# Concatenate the zeros array with y_tr along the first axis\n",
    "y_train_one_hot = np.concatenate((y_train_one_hot, multidim_vec), axis=0)\n",
    "\n",
    "# Print the shapes of X_tr and y_tr\n",
    "print(f\"X_train shape: {len(X_train)}\")\n",
    "print(f\"y_train shape: {y_train_one_hot.shape}\")"
   ]
  },
  {
   "cell_type": "markdown",
   "id": "0c7ccc0b",
   "metadata": {
    "papermill": {
     "duration": 0.035831,
     "end_time": "2023-05-02T16:37:33.439514",
     "exception": false,
     "start_time": "2023-05-02T16:37:33.403683",
     "status": "completed"
    },
    "tags": []
   },
   "source": [
    "## Define and compile model configurations"
   ]
  },
  {
   "cell_type": "code",
   "execution_count": 36,
   "id": "30380ac6",
   "metadata": {
    "execution": {
     "iopub.execute_input": "2023-05-02T16:37:33.515825Z",
     "iopub.status.busy": "2023-05-02T16:37:33.514553Z",
     "iopub.status.idle": "2023-05-02T16:37:33.582870Z",
     "shell.execute_reply": "2023-05-02T16:37:33.581513Z"
    },
    "papermill": {
     "duration": 0.109516,
     "end_time": "2023-05-02T16:37:33.585788",
     "exception": false,
     "start_time": "2023-05-02T16:37:33.476272",
     "status": "completed"
    },
    "tags": []
   },
   "outputs": [],
   "source": [
    "from keras.optimizers import Adam\n",
    "from tensorflow.keras.losses import BinaryCrossentropy\n",
    "\n",
    "# Define learning rate\n",
    "learning_rate = 0.001\n",
    "\n",
    "# Create Adam optimizer with specified learning rate\n",
    "adamOptimizer = Adam(lr=learning_rate)\n",
    "\n",
    "lossFn = BinaryCrossentropy(from_logits=False)\n",
    "\n",
    "tech_jargon_model.compile(optimizer=adamOptimizer, \n",
    "                          loss=lossFn, \n",
    "                          metrics=['accuracy'])\n"
   ]
  },
  {
   "cell_type": "markdown",
   "id": "f3c7d318",
   "metadata": {
    "papermill": {
     "duration": 0.0357,
     "end_time": "2023-05-02T16:37:33.658144",
     "exception": false,
     "start_time": "2023-05-02T16:37:33.622444",
     "status": "completed"
    },
    "tags": []
   },
   "source": [
    "## Load validation set data and apply all transformations similar to training data"
   ]
  },
  {
   "cell_type": "code",
   "execution_count": 37,
   "id": "fb469172",
   "metadata": {
    "execution": {
     "iopub.execute_input": "2023-05-02T16:37:33.732739Z",
     "iopub.status.busy": "2023-05-02T16:37:33.731871Z",
     "iopub.status.idle": "2023-05-02T16:37:34.034136Z",
     "shell.execute_reply": "2023-05-02T16:37:34.032707Z"
    },
    "papermill": {
     "duration": 0.343213,
     "end_time": "2023-05-02T16:37:34.036938",
     "exception": false,
     "start_time": "2023-05-02T16:37:33.693725",
     "status": "completed"
    },
    "tags": []
   },
   "outputs": [
    {
     "name": "stdout",
     "output_type": "stream",
     "text": [
      "X_val shape: 2144\n",
      "y_val_one_hot shape: (2144, 25, 2)\n",
      "y_val shape: 2134, 25\n"
     ]
    }
   ],
   "source": [
    "validdata = pd.read_csv(\"/kaggle/input/jargon/validation.csv\")\n",
    "validdata['prefix'] = validdata['token_id'].apply(lambda x: x.split('/')[:3])\n",
    "validdata['prefix'] = validdata['prefix'].apply(lambda x: '/'.join(x))\n",
    "validdata_id_dict = {}\n",
    "validdata_id_counter = 0\n",
    "for token_id in validdata['prefix']:\n",
    "    if token_id not in validdata_id_dict:\n",
    "        validdata_id_dict[token_id] = validdata_id_counter\n",
    "        validdata_id_counter += 1\n",
    "\n",
    "# Replace the token IDs in the data with their corresponding integer IDs\n",
    "validdata[\"id\"] = [validdata_id_dict[token_id] for token_id in validdata[\"prefix\"]]\n",
    "validdata_df = validdata.drop(['token_id', 'prefix'], axis=1)\n",
    "validdata_getter = SentenceGetter(validdata_df)\n",
    "validdata_sentences = validdata_getter.sentences\n",
    "\n",
    "max_len = 25\n",
    "valid_sent = [[w[0] for w in s] for s in validdata_sentences]\n",
    "valid_labels = [[tags2index[w[1]] for w in s] for s in validdata_sentences]\n",
    "X_val = []\n",
    "y_val = []\n",
    "val_padwordCount_sentwise = []\n",
    "for seq_x, seq_y in zip(valid_sent, valid_labels):\n",
    "    if len(seq_x) > max_len:\n",
    "        # Break sentence into temporary list of sentences of size 25 or less\n",
    "        temp_seq_x = []\n",
    "        temp_seq_y = []\n",
    "        while len(seq_x) > max_len:\n",
    "            temp_seq_x.append(seq_x[:max_len])\n",
    "            temp_seq_y.append(seq_y[:max_len])\n",
    "            seq_x = seq_x[max_len:]\n",
    "            seq_y = seq_y[max_len:]\n",
    "        temp_seq_x.append(seq_x)\n",
    "        temp_seq_y.append(seq_y)\n",
    "\n",
    "        # Create an entry in new_X and new_y for each sentence and add corresponding padwords count\n",
    "        for temp_x, temp_y in zip(temp_seq_x, temp_seq_y):\n",
    "            new_seq_x = temp_x + [\"PADword\"] * (max_len - len(temp_x))\n",
    "            new_seq_y = temp_y + [0] * (max_len - len(temp_y))\n",
    "            X_val.append(new_seq_x)\n",
    "            y_val.append(new_seq_y)\n",
    "            val_padwordCount_sentwise.append(len([word for word in new_seq_x if word == \"PADword\"]))\n",
    "\n",
    "    elif len(seq_x) < max_len:\n",
    "        # Pad sentence with 'PADword' to make it max_len in length\n",
    "        new_seq_x = seq_x + [\"PADword\"] * (max_len - len(seq_x))\n",
    "        new_seq_y = seq_y + [0] * (max_len - len(seq_y))\n",
    "        X_val.append(new_seq_x)\n",
    "        y_val.append(new_seq_y)\n",
    "        val_padwordCount_sentwise.append(len([word for word in new_seq_x if word == \"PADword\"]))\n",
    "\n",
    "    else:\n",
    "        # Sentence length is already max_len, just add to new_X and new_y, and padwords count as 0\n",
    "        X_val.append(seq_x)\n",
    "        y_val.append(seq_y)\n",
    "        padwordCount_sentwise.append(0)\n",
    "        \n",
    "orig_X_val_count = len(X_val)\n",
    "\n",
    "# Apply one-hot encoding\n",
    "y_val_one_hot = to_categorical(y_val, num_classes=2)\n",
    "\n",
    "\n",
    "# Define the number of sentences to generate\n",
    "validdata_num_sentences = batch_size-(len(X_val)%batch_size)\n",
    "if validdata_num_sentences > 0:    \n",
    "    # Define the length of each sentence\n",
    "    sentence_length = 25\n",
    "    # Generate the sentences\n",
    "    validdata_pad_sentences = [['PADword' for _ in range(sentence_length)] for _ in range(validdata_num_sentences)]\n",
    "    # Add the sentences to X_tr\n",
    "    X_val.extend(validdata_pad_sentences)\n",
    "    \n",
    "    vec = np.array([1., 0.])  # original vector\n",
    "    multidim_vec = np.tile(vec, (validdata_num_sentences, 25, 1))\n",
    "    # Add the rows to y_tr\n",
    "    # Concatenate the zeros array with y_tr along the first axis\n",
    "    y_val_one_hot = np.concatenate((y_val_one_hot, multidim_vec), axis=0)\n",
    "\n",
    "\n",
    "print(f\"X_val shape: {len(X_val)}\")\n",
    "print(f\"y_val_one_hot shape: {y_val_one_hot.shape}\")\n",
    "print(f\"y_val shape: {len(y_val)}, {len(y_val[0])}\")"
   ]
  },
  {
   "cell_type": "markdown",
   "id": "1a6ab8f3",
   "metadata": {
    "papermill": {
     "duration": 0.035782,
     "end_time": "2023-05-02T16:37:34.109332",
     "exception": false,
     "start_time": "2023-05-02T16:37:34.073550",
     "status": "completed"
    },
    "tags": []
   },
   "source": [
    "## Train model"
   ]
  },
  {
   "cell_type": "code",
   "execution_count": 38,
   "id": "63d49065",
   "metadata": {
    "execution": {
     "iopub.execute_input": "2023-05-02T16:37:34.184475Z",
     "iopub.status.busy": "2023-05-02T16:37:34.184029Z",
     "iopub.status.idle": "2023-05-02T19:34:23.828679Z",
     "shell.execute_reply": "2023-05-02T19:34:23.824572Z"
    },
    "papermill": {
     "duration": 10609.899987,
     "end_time": "2023-05-02T19:34:24.045235",
     "exception": false,
     "start_time": "2023-05-02T16:37:34.145248",
     "status": "completed"
    },
    "tags": []
   },
   "outputs": [
    {
     "name": "stdout",
     "output_type": "stream",
     "text": [
      "Train on 32800 samples, validate on 2144 samples\n",
      "Epoch 1/3\n",
      "32800/32800 [==============================] - 3520s 107ms/step - loss: 0.0837 - acc: 0.9649 - val_loss: 0.0678 - val_acc: 0.9707\n",
      "Epoch 2/3\n",
      "32800/32800 [==============================] - 3509s 107ms/step - loss: 0.0654 - acc: 0.9727 - val_loss: 0.0675 - val_acc: 0.9715\n",
      "Epoch 3/3\n",
      "32800/32800 [==============================] - 3577s 109ms/step - loss: 0.0553 - acc: 0.9773 - val_loss: 0.0687 - val_acc: 0.9707\n"
     ]
    }
   ],
   "source": [
    "# Train model\n",
    "history = tech_jargon_model.fit(np.array(X_train), \n",
    "                                    y_train_one_hot, \n",
    "                                    validation_data=(np.array(X_val), y_val_one_hot),\n",
    "                                    batch_size=batch_size, \n",
    "                                    epochs=3, \n",
    "                                    verbose=1) "
   ]
  },
  {
   "cell_type": "code",
   "execution_count": 39,
   "id": "71f485b0",
   "metadata": {
    "execution": {
     "iopub.execute_input": "2023-05-02T19:34:24.527501Z",
     "iopub.status.busy": "2023-05-02T19:34:24.526767Z",
     "iopub.status.idle": "2023-05-02T19:34:24.922661Z",
     "shell.execute_reply": "2023-05-02T19:34:24.921197Z"
    },
    "papermill": {
     "duration": 0.642707,
     "end_time": "2023-05-02T19:34:24.925600",
     "exception": false,
     "start_time": "2023-05-02T19:34:24.282893",
     "status": "completed"
    },
    "tags": []
   },
   "outputs": [
    {
     "data": {
      "image/png": "[encoded data removed]",
      "text/plain": [
       "<Figure size 640x480 with 1 Axes>"
      ]
     },
     "metadata": {},
     "output_type": "display_data"
    }
   ],
   "source": [
    "# Plot training loss\n",
    "plt.plot(history.history['loss'])\n",
    "# Plot validation loss\n",
    "plt.plot(history.history['val_loss'])\n",
    "plt.title('Model Loss')\n",
    "plt.ylabel('Loss')\n",
    "plt.xlabel('Epoch')\n",
    "plt.legend(['Training Loss', 'Validation Loss'], loc='upper right')\n",
    "plt.savefig('loss_plot.png')  # Save plot as PNG file\n",
    "plt.show()\n",
    "\n"
   ]
  },
  {
   "cell_type": "code",
   "execution_count": 40,
   "id": "014a30c7",
   "metadata": {
    "execution": {
     "iopub.execute_input": "2023-05-02T19:34:25.409370Z",
     "iopub.status.busy": "2023-05-02T19:34:25.408251Z",
     "iopub.status.idle": "2023-05-02T19:34:25.752137Z",
     "shell.execute_reply": "2023-05-02T19:34:25.750765Z"
    },
    "papermill": {
     "duration": 0.589944,
     "end_time": "2023-05-02T19:34:25.755147",
     "exception": false,
     "start_time": "2023-05-02T19:34:25.165203",
     "status": "completed"
    },
    "tags": []
   },
   "outputs": [
    {
     "data": {
      "image/png": "[encoded data removed]",
      "text/plain": [
       "<Figure size 640x480 with 1 Axes>"
      ]
     },
     "metadata": {},
     "output_type": "display_data"
    }
   ],
   "source": [
    "# Plot training accuracy\n",
    "plt.plot(history.history['acc'])\n",
    "# Plot validation accuracy\n",
    "plt.plot(history.history['val_acc'])\n",
    "plt.title('Model Accuracy')\n",
    "plt.ylabel('Accuracy')\n",
    "plt.xlabel('Epoch')\n",
    "plt.legend(['Training Accuracy', 'Validation Accuracy'], loc='lower right')\n",
    "plt.savefig('accuracy_plot.png')  # Save plot as PNG file\n",
    "plt.show()\n"
   ]
  },
  {
   "cell_type": "markdown",
   "id": "6c63d9c5",
   "metadata": {
    "papermill": {
     "duration": 0.243377,
     "end_time": "2023-05-02T19:34:26.246375",
     "exception": false,
     "start_time": "2023-05-02T19:34:26.002998",
     "status": "completed"
    },
    "tags": []
   },
   "source": [
    "# Load test data"
   ]
  },
  {
   "cell_type": "code",
   "execution_count": 41,
   "id": "671c5d35",
   "metadata": {
    "execution": {
     "iopub.execute_input": "2023-05-02T19:34:26.726077Z",
     "iopub.status.busy": "2023-05-02T19:34:26.725585Z",
     "iopub.status.idle": "2023-05-02T19:34:26.818537Z",
     "shell.execute_reply": "2023-05-02T19:34:26.817337Z"
    },
    "papermill": {
     "duration": 0.335458,
     "end_time": "2023-05-02T19:34:26.821527",
     "exception": false,
     "start_time": "2023-05-02T19:34:26.486069",
     "status": "completed"
    },
    "tags": []
   },
   "outputs": [],
   "source": [
    "testdata = pd.read_csv(\"/kaggle/input/jargon/test_no_labels.csv\")"
   ]
  },
  {
   "cell_type": "markdown",
   "id": "384d1eb9",
   "metadata": {
    "papermill": {
     "duration": 0.240245,
     "end_time": "2023-05-02T19:34:27.301526",
     "exception": false,
     "start_time": "2023-05-02T19:34:27.061281",
     "status": "completed"
    },
    "tags": []
   },
   "source": [
    "# Pre-process data to get sentence ids"
   ]
  },
  {
   "cell_type": "code",
   "execution_count": 42,
   "id": "e0ca3d57",
   "metadata": {
    "execution": {
     "iopub.execute_input": "2023-05-02T19:34:27.779270Z",
     "iopub.status.busy": "2023-05-02T19:34:27.778554Z",
     "iopub.status.idle": "2023-05-02T19:34:27.842092Z",
     "shell.execute_reply": "2023-05-02T19:34:27.840593Z"
    },
    "papermill": {
     "duration": 0.306555,
     "end_time": "2023-05-02T19:34:27.844957",
     "exception": false,
     "start_time": "2023-05-02T19:34:27.538402",
     "status": "completed"
    },
    "tags": []
   },
   "outputs": [],
   "source": [
    "testdata['prefix'] = testdata['token_id'].apply(lambda x: x.split('/')[:3])\n",
    "testdata['prefix'] = testdata['prefix'].apply(lambda x: '/'.join(x))"
   ]
  },
  {
   "cell_type": "code",
   "execution_count": 43,
   "id": "0f0b83b8",
   "metadata": {
    "execution": {
     "iopub.execute_input": "2023-05-02T19:34:28.422079Z",
     "iopub.status.busy": "2023-05-02T19:34:28.421152Z",
     "iopub.status.idle": "2023-05-02T19:34:28.459424Z",
     "shell.execute_reply": "2023-05-02T19:34:28.457909Z"
    },
    "papermill": {
     "duration": 0.288334,
     "end_time": "2023-05-02T19:34:28.462575",
     "exception": false,
     "start_time": "2023-05-02T19:34:28.174241",
     "status": "completed"
    },
    "tags": []
   },
   "outputs": [],
   "source": [
    "test_id_dict = {}\n",
    "test_id_counter = 0\n",
    "for token_id in testdata['prefix']:\n",
    "    if token_id not in test_id_dict:\n",
    "        test_id_dict[token_id] = test_id_counter\n",
    "        test_id_counter += 1\n",
    "\n",
    "# Replace the token IDs in the data with their corresponding integer IDs\n",
    "testdata[\"id\"] = [test_id_dict[token_id] for token_id in testdata[\"prefix\"]]"
   ]
  },
  {
   "cell_type": "code",
   "execution_count": 44,
   "id": "cb3322bb",
   "metadata": {
    "execution": {
     "iopub.execute_input": "2023-05-02T19:34:28.951764Z",
     "iopub.status.busy": "2023-05-02T19:34:28.950550Z",
     "iopub.status.idle": "2023-05-02T19:34:28.974616Z",
     "shell.execute_reply": "2023-05-02T19:34:28.973502Z"
    },
    "papermill": {
     "duration": 0.276865,
     "end_time": "2023-05-02T19:34:28.979132",
     "exception": false,
     "start_time": "2023-05-02T19:34:28.702267",
     "status": "completed"
    },
    "tags": []
   },
   "outputs": [
    {
     "data": {
      "text/html": [
       "<div>\n",
       "<style scoped>\n",
       "    .dataframe tbody tr th:only-of-type {\n",
       "        vertical-align: middle;\n",
       "    }\n",
       "\n",
       "    .dataframe tbody tr th {\n",
       "        vertical-align: top;\n",
       "    }\n",
       "\n",
       "    .dataframe thead th {\n",
       "        text-align: right;\n",
       "    }\n",
       "</style>\n",
       "<table border=\"1\" class=\"dataframe\">\n",
       "  <thead>\n",
       "    <tr style=\"text-align: right;\">\n",
       "      <th></th>\n",
       "      <th>token_id</th>\n",
       "      <th>token</th>\n",
       "      <th>label</th>\n",
       "      <th>prefix</th>\n",
       "      <th>id</th>\n",
       "    </tr>\n",
       "  </thead>\n",
       "  <tbody>\n",
       "    <tr>\n",
       "      <th>0</th>\n",
       "      <td>cs/doc_1977/0/0</td>\n",
       "      <td>Next</td>\n",
       "      <td>O</td>\n",
       "      <td>cs/doc_1977/0</td>\n",
       "      <td>0</td>\n",
       "    </tr>\n",
       "    <tr>\n",
       "      <th>1</th>\n",
       "      <td>cs/doc_1977/0/1</td>\n",
       "      <td>,</td>\n",
       "      <td>O</td>\n",
       "      <td>cs/doc_1977/0</td>\n",
       "      <td>0</td>\n",
       "    </tr>\n",
       "    <tr>\n",
       "      <th>2</th>\n",
       "      <td>cs/doc_1977/0/2</td>\n",
       "      <td>we</td>\n",
       "      <td>O</td>\n",
       "      <td>cs/doc_1977/0</td>\n",
       "      <td>0</td>\n",
       "    </tr>\n",
       "    <tr>\n",
       "      <th>3</th>\n",
       "      <td>cs/doc_1977/0/3</td>\n",
       "      <td>analyze</td>\n",
       "      <td>O</td>\n",
       "      <td>cs/doc_1977/0</td>\n",
       "      <td>0</td>\n",
       "    </tr>\n",
       "    <tr>\n",
       "      <th>4</th>\n",
       "      <td>cs/doc_1977/0/4</td>\n",
       "      <td>the</td>\n",
       "      <td>O</td>\n",
       "      <td>cs/doc_1977/0</td>\n",
       "      <td>0</td>\n",
       "    </tr>\n",
       "    <tr>\n",
       "      <th>...</th>\n",
       "      <td>...</td>\n",
       "      <td>...</td>\n",
       "      <td>...</td>\n",
       "      <td>...</td>\n",
       "      <td>...</td>\n",
       "    </tr>\n",
       "    <tr>\n",
       "      <th>42353</th>\n",
       "      <td>phys/doc_2100/10/20</td>\n",
       "      <td>also</td>\n",
       "      <td>O</td>\n",
       "      <td>phys/doc_2100/10</td>\n",
       "      <td>1610</td>\n",
       "    </tr>\n",
       "    <tr>\n",
       "      <th>42354</th>\n",
       "      <td>phys/doc_2100/10/21</td>\n",
       "      <td>presented</td>\n",
       "      <td>O</td>\n",
       "      <td>phys/doc_2100/10</td>\n",
       "      <td>1610</td>\n",
       "    </tr>\n",
       "    <tr>\n",
       "      <th>42355</th>\n",
       "      <td>phys/doc_2100/10/22</td>\n",
       "      <td>and</td>\n",
       "      <td>O</td>\n",
       "      <td>phys/doc_2100/10</td>\n",
       "      <td>1610</td>\n",
       "    </tr>\n",
       "    <tr>\n",
       "      <th>42356</th>\n",
       "      <td>phys/doc_2100/10/23</td>\n",
       "      <td>discussed</td>\n",
       "      <td>O</td>\n",
       "      <td>phys/doc_2100/10</td>\n",
       "      <td>1610</td>\n",
       "    </tr>\n",
       "    <tr>\n",
       "      <th>42357</th>\n",
       "      <td>phys/doc_2100/10/24</td>\n",
       "      <td>.</td>\n",
       "      <td>O</td>\n",
       "      <td>phys/doc_2100/10</td>\n",
       "      <td>1610</td>\n",
       "    </tr>\n",
       "  </tbody>\n",
       "</table>\n",
       "<p>42358 rows × 5 columns</p>\n",
       "</div>"
      ],
      "text/plain": [
       "                  token_id      token label            prefix    id\n",
       "0          cs/doc_1977/0/0       Next     O     cs/doc_1977/0     0\n",
       "1          cs/doc_1977/0/1          ,     O     cs/doc_1977/0     0\n",
       "2          cs/doc_1977/0/2         we     O     cs/doc_1977/0     0\n",
       "3          cs/doc_1977/0/3    analyze     O     cs/doc_1977/0     0\n",
       "4          cs/doc_1977/0/4        the     O     cs/doc_1977/0     0\n",
       "...                    ...        ...   ...               ...   ...\n",
       "42353  phys/doc_2100/10/20       also     O  phys/doc_2100/10  1610\n",
       "42354  phys/doc_2100/10/21  presented     O  phys/doc_2100/10  1610\n",
       "42355  phys/doc_2100/10/22        and     O  phys/doc_2100/10  1610\n",
       "42356  phys/doc_2100/10/23  discussed     O  phys/doc_2100/10  1610\n",
       "42357  phys/doc_2100/10/24          .     O  phys/doc_2100/10  1610\n",
       "\n",
       "[42358 rows x 5 columns]"
      ]
     },
     "execution_count": 44,
     "metadata": {},
     "output_type": "execute_result"
    }
   ],
   "source": [
    "testdata"
   ]
  },
  {
   "cell_type": "code",
   "execution_count": 45,
   "id": "1ec4aa81",
   "metadata": {
    "execution": {
     "iopub.execute_input": "2023-05-02T19:34:29.508259Z",
     "iopub.status.busy": "2023-05-02T19:34:29.507286Z",
     "iopub.status.idle": "2023-05-02T19:34:29.520759Z",
     "shell.execute_reply": "2023-05-02T19:34:29.519733Z"
    },
    "papermill": {
     "duration": 0.280596,
     "end_time": "2023-05-02T19:34:29.523648",
     "exception": false,
     "start_time": "2023-05-02T19:34:29.243052",
     "status": "completed"
    },
    "tags": []
   },
   "outputs": [],
   "source": [
    "test_df = testdata.drop(['token_id', 'prefix'], axis=1)"
   ]
  },
  {
   "cell_type": "code",
   "execution_count": 46,
   "id": "2c1e03e1",
   "metadata": {
    "execution": {
     "iopub.execute_input": "2023-05-02T19:34:30.008001Z",
     "iopub.status.busy": "2023-05-02T19:34:30.007078Z",
     "iopub.status.idle": "2023-05-02T19:34:30.031405Z",
     "shell.execute_reply": "2023-05-02T19:34:30.029940Z"
    },
    "papermill": {
     "duration": 0.268944,
     "end_time": "2023-05-02T19:34:30.034006",
     "exception": false,
     "start_time": "2023-05-02T19:34:29.765062",
     "status": "completed"
    },
    "tags": []
   },
   "outputs": [
    {
     "name": "stdout",
     "output_type": "stream",
     "text": [
      "      size\n",
      "id        \n",
      "0       13\n",
      "1      127\n",
      "2       19\n",
      "3       29\n",
      "4       34\n",
      "...    ...\n",
      "1606    17\n",
      "1607    23\n",
      "1608    17\n",
      "1609    20\n",
      "1610    25\n",
      "\n",
      "[1611 rows x 1 columns]\n",
      "\n",
      "\n",
      "total_sent_size: 42357\n"
     ]
    }
   ],
   "source": [
    "id_counts = test_df.groupby('id').count()\n",
    "sent_size_df = id_counts[['token']].rename(columns={'token': 'size'})\n",
    "print(f\"{sent_size_df}\\n\\n\")\n",
    "total_sent_size = sent_size_df['size'].sum()\n",
    "print(f\"total_sent_size: {total_sent_size}\")"
   ]
  },
  {
   "cell_type": "code",
   "execution_count": 47,
   "id": "fae5f599",
   "metadata": {
    "execution": {
     "iopub.execute_input": "2023-05-02T19:34:30.527776Z",
     "iopub.status.busy": "2023-05-02T19:34:30.527058Z",
     "iopub.status.idle": "2023-05-02T19:34:30.703547Z",
     "shell.execute_reply": "2023-05-02T19:34:30.701942Z"
    },
    "papermill": {
     "duration": 0.428367,
     "end_time": "2023-05-02T19:34:30.706296",
     "exception": false,
     "start_time": "2023-05-02T19:34:30.277929",
     "status": "completed"
    },
    "tags": []
   },
   "outputs": [
    {
     "name": "stdout",
     "output_type": "stream",
     "text": [
      "biggest sentence has 127 words\n"
     ]
    }
   ],
   "source": [
    "test_getter = SentenceGetter(test_df)\n",
    "test_sentences = test_getter.sentences\n",
    "test_largest_sen = max(len(sen) for sen in test_sentences)\n",
    "print('biggest sentence has {} words'.format(test_largest_sen))"
   ]
  },
  {
   "cell_type": "code",
   "execution_count": 48,
   "id": "cbf54de2",
   "metadata": {
    "execution": {
     "iopub.execute_input": "2023-05-02T19:34:31.186458Z",
     "iopub.status.busy": "2023-05-02T19:34:31.185176Z",
     "iopub.status.idle": "2023-05-02T19:34:31.192111Z",
     "shell.execute_reply": "2023-05-02T19:34:31.191101Z"
    },
    "papermill": {
     "duration": 0.250629,
     "end_time": "2023-05-02T19:34:31.194319",
     "exception": false,
     "start_time": "2023-05-02T19:34:30.943690",
     "status": "completed"
    },
    "tags": []
   },
   "outputs": [
    {
     "data": {
      "text/plain": [
       "1611"
      ]
     },
     "execution_count": 48,
     "metadata": {},
     "output_type": "execute_result"
    }
   ],
   "source": [
    "len(test_sentences)"
   ]
  },
  {
   "cell_type": "markdown",
   "id": "12679173",
   "metadata": {
    "papermill": {
     "duration": 0.318592,
     "end_time": "2023-05-02T19:34:31.754318",
     "exception": false,
     "start_time": "2023-05-02T19:34:31.435726",
     "status": "completed"
    },
    "tags": []
   },
   "source": [
    "## Plot distribution of sentence lengths"
   ]
  },
  {
   "cell_type": "code",
   "execution_count": 49,
   "id": "761c7612",
   "metadata": {
    "execution": {
     "iopub.execute_input": "2023-05-02T19:34:32.248800Z",
     "iopub.status.busy": "2023-05-02T19:34:32.247660Z",
     "iopub.status.idle": "2023-05-02T19:34:32.679870Z",
     "shell.execute_reply": "2023-05-02T19:34:32.678606Z"
    },
    "papermill": {
     "duration": 0.68696,
     "end_time": "2023-05-02T19:34:32.682623",
     "exception": false,
     "start_time": "2023-05-02T19:34:31.995663",
     "status": "completed"
    },
    "tags": []
   },
   "outputs": [
    {
     "data": {
      "image/png": "[encoded data removed]",
      "text/plain": [
       "<Figure size 640x480 with 1 Axes>"
      ]
     },
     "metadata": {},
     "output_type": "display_data"
    }
   ],
   "source": [
    "%matplotlib inline\n",
    "import matplotlib.pyplot as plt\n",
    "\n",
    "test_sent_lengths = [len(sen) for sen in test_sentences]\n",
    "test_max_len = max(test_sent_lengths)\n",
    "test_min_len = min(test_sent_lengths)\n",
    "\n",
    "plt.hist(test_sent_lengths, bins=50)\n",
    "plt.xlim([test_min_len-10, test_max_len+10])\n",
    "plt.xlabel('Sentence Length')\n",
    "plt.ylabel('Frequency')\n",
    "plt.title('Distribution of Sentence Lengths')\n",
    "plt.savefig('DistSentLenTest.png')  # Save plot as PNG file\n",
    "plt.show()"
   ]
  },
  {
   "cell_type": "markdown",
   "id": "88c6fbab",
   "metadata": {
    "papermill": {
     "duration": 0.250574,
     "end_time": "2023-05-02T19:34:33.182279",
     "exception": false,
     "start_time": "2023-05-02T19:34:32.931705",
     "status": "completed"
    },
    "tags": []
   },
   "source": [
    "## Pad sentences to make every sentence of size max_len as defined"
   ]
  },
  {
   "cell_type": "code",
   "execution_count": 50,
   "id": "940f84ca",
   "metadata": {
    "execution": {
     "iopub.execute_input": "2023-05-02T19:34:33.680995Z",
     "iopub.status.busy": "2023-05-02T19:34:33.680510Z",
     "iopub.status.idle": "2023-05-02T19:34:33.706832Z",
     "shell.execute_reply": "2023-05-02T19:34:33.705429Z"
    },
    "papermill": {
     "duration": 0.278814,
     "end_time": "2023-05-02T19:34:33.709758",
     "exception": false,
     "start_time": "2023-05-02T19:34:33.430944",
     "status": "completed"
    },
    "tags": []
   },
   "outputs": [],
   "source": [
    "      \n",
    "max_len = 25\n",
    "test_sent = [[w[0] for w in s] for s in test_sentences]\n",
    "X_test = []\n",
    "\n",
    "test_padwordCount_sentwise = []\n",
    "\n",
    "for seq_x in test_sent:\n",
    "    if len(seq_x) > max_len:\n",
    "        # Break sentence into temporary list of sentences of size 25 or less\n",
    "        temp_seq_x = []\n",
    "        while len(seq_x) > max_len:\n",
    "            temp_seq_x.append(seq_x[:max_len])\n",
    "            seq_x = seq_x[max_len:]\n",
    "        temp_seq_x.append(seq_x)\n",
    "\n",
    "        # Create an entry in new_X and new_y for each sentence and add corresponding padwords count\n",
    "        for temp_x in temp_seq_x:\n",
    "            new_seq_x = temp_x + [\"PADword\"] * (max_len - len(temp_x))\n",
    "            X_test.append(new_seq_x)\n",
    "            test_padwordCount_sentwise.append(len([word for word in new_seq_x if word == \"PADword\"]))\n",
    "\n",
    "    elif len(seq_x) < max_len:\n",
    "        # Pad sentence with 'PADword' to make it max_len in length\n",
    "        new_seq_x = seq_x + [\"PADword\"] * (max_len - len(seq_x))\n",
    "        X_test.append(new_seq_x)\n",
    "        test_padwordCount_sentwise.append(len([word for word in new_seq_x if word == \"PADword\"]))\n",
    "\n",
    "    else:\n",
    "        # Sentence length is already max_len, just add to new_X and new_y, and padwords count as 0\n",
    "        X_test.append(seq_x)\n",
    "        test_padwordCount_sentwise.append(0)\n",
    "        "
   ]
  },
  {
   "cell_type": "code",
   "execution_count": 51,
   "id": "954b801a",
   "metadata": {
    "execution": {
     "iopub.execute_input": "2023-05-02T19:34:34.211348Z",
     "iopub.status.busy": "2023-05-02T19:34:34.210313Z",
     "iopub.status.idle": "2023-05-02T19:34:34.218682Z",
     "shell.execute_reply": "2023-05-02T19:34:34.217655Z"
    },
    "papermill": {
     "duration": 0.264077,
     "end_time": "2023-05-02T19:34:34.221319",
     "exception": false,
     "start_time": "2023-05-02T19:34:33.957242",
     "status": "completed"
    },
    "tags": []
   },
   "outputs": [
    {
     "data": {
      "text/plain": [
       "2466"
      ]
     },
     "execution_count": 51,
     "metadata": {},
     "output_type": "execute_result"
    }
   ],
   "source": [
    "len(X_test)"
   ]
  },
  {
   "cell_type": "markdown",
   "id": "cd71db42",
   "metadata": {
    "papermill": {
     "duration": 0.246504,
     "end_time": "2023-05-02T19:34:34.714821",
     "exception": false,
     "start_time": "2023-05-02T19:34:34.468317",
     "status": "completed"
    },
    "tags": []
   },
   "source": [
    "## Add PADword sentences to make the last batch divisible by batch_size"
   ]
  },
  {
   "cell_type": "code",
   "execution_count": 52,
   "id": "39b0dfce",
   "metadata": {
    "execution": {
     "iopub.execute_input": "2023-05-02T19:34:35.218192Z",
     "iopub.status.busy": "2023-05-02T19:34:35.216667Z",
     "iopub.status.idle": "2023-05-02T19:34:35.225788Z",
     "shell.execute_reply": "2023-05-02T19:34:35.224250Z"
    },
    "papermill": {
     "duration": 0.26091,
     "end_time": "2023-05-02T19:34:35.228530",
     "exception": false,
     "start_time": "2023-05-02T19:34:34.967620",
     "status": "completed"
    },
    "tags": []
   },
   "outputs": [
    {
     "name": "stdout",
     "output_type": "stream",
     "text": [
      "total_padwords: 19292, remaining_tokens: 42358\n"
     ]
    }
   ],
   "source": [
    "total_padwords = sum(test_padwordCount_sentwise)\n",
    "total_tokens = len(X_test) * max_len\n",
    "remaining_tokens = total_tokens - total_padwords\n",
    "print(f\"total_padwords: {total_padwords}, remaining_tokens: {remaining_tokens}\")"
   ]
  },
  {
   "cell_type": "code",
   "execution_count": 53,
   "id": "05f8fb2a",
   "metadata": {
    "execution": {
     "iopub.execute_input": "2023-05-02T19:34:35.727008Z",
     "iopub.status.busy": "2023-05-02T19:34:35.726528Z",
     "iopub.status.idle": "2023-05-02T19:34:35.732828Z",
     "shell.execute_reply": "2023-05-02T19:34:35.731413Z"
    },
    "papermill": {
     "duration": 0.26091,
     "end_time": "2023-05-02T19:34:35.736533",
     "exception": false,
     "start_time": "2023-05-02T19:34:35.475623",
     "status": "completed"
    },
    "tags": []
   },
   "outputs": [
    {
     "name": "stdout",
     "output_type": "stream",
     "text": [
      "X_test shape : 2466\n"
     ]
    }
   ],
   "source": [
    "orig_testX_len = len(X_test)\n",
    "print(f\"X_test shape : {len(X_test)}\")"
   ]
  },
  {
   "cell_type": "code",
   "execution_count": 54,
   "id": "ae726133",
   "metadata": {
    "execution": {
     "iopub.execute_input": "2023-05-02T19:34:36.324320Z",
     "iopub.status.busy": "2023-05-02T19:34:36.323328Z",
     "iopub.status.idle": "2023-05-02T19:34:36.330576Z",
     "shell.execute_reply": "2023-05-02T19:34:36.329549Z"
    },
    "papermill": {
     "duration": 0.349014,
     "end_time": "2023-05-02T19:34:36.333577",
     "exception": false,
     "start_time": "2023-05-02T19:34:35.984563",
     "status": "completed"
    },
    "tags": []
   },
   "outputs": [],
   "source": [
    "# Define the number of sentences to generate\n",
    "test_num_sentences = batch_size-(len(X_test)%batch_size)\n",
    "if test_num_sentences > 0:    \n",
    "    # Define the length of each sentence\n",
    "    sentence_length = 25\n",
    "    # Generate the sentences\n",
    "    test_pad_sentences = [['PADword' for _ in range(sentence_length)] for _ in range(test_num_sentences)]\n",
    "    # Add the sentences to X_tr\n",
    "    X_test.extend(test_pad_sentences)\n",
    "    \n"
   ]
  },
  {
   "cell_type": "code",
   "execution_count": 55,
   "id": "44e63f07",
   "metadata": {
    "execution": {
     "iopub.execute_input": "2023-05-02T19:34:36.834234Z",
     "iopub.status.busy": "2023-05-02T19:34:36.833317Z",
     "iopub.status.idle": "2023-05-02T19:34:36.841538Z",
     "shell.execute_reply": "2023-05-02T19:34:36.839633Z"
    },
    "papermill": {
     "duration": 0.263995,
     "end_time": "2023-05-02T19:34:36.844750",
     "exception": false,
     "start_time": "2023-05-02T19:34:36.580755",
     "status": "completed"
    },
    "tags": []
   },
   "outputs": [
    {
     "name": "stdout",
     "output_type": "stream",
     "text": [
      "X_test: 2496\n"
     ]
    }
   ],
   "source": [
    "print(f\"X_test: {len(X_test)}\")"
   ]
  },
  {
   "cell_type": "markdown",
   "id": "c2754ef8",
   "metadata": {
    "papermill": {
     "duration": 0.249423,
     "end_time": "2023-05-02T19:34:37.346788",
     "exception": false,
     "start_time": "2023-05-02T19:34:37.097365",
     "status": "completed"
    },
    "tags": []
   },
   "source": [
    "## Generate test set predictions"
   ]
  },
  {
   "cell_type": "code",
   "execution_count": 56,
   "id": "fb63936a",
   "metadata": {
    "execution": {
     "iopub.execute_input": "2023-05-02T19:34:37.851302Z",
     "iopub.status.busy": "2023-05-02T19:34:37.850313Z",
     "iopub.status.idle": "2023-05-02T19:37:55.769884Z",
     "shell.execute_reply": "2023-05-02T19:37:55.768418Z"
    },
    "papermill": {
     "duration": 198.175664,
     "end_time": "2023-05-02T19:37:55.773306",
     "exception": false,
     "start_time": "2023-05-02T19:34:37.597642",
     "status": "completed"
    },
    "tags": []
   },
   "outputs": [
    {
     "name": "stdout",
     "output_type": "stream",
     "text": [
      "2496/2496 [==============================] - 198s 79ms/step\n"
     ]
    }
   ],
   "source": [
    "test_pred = tech_jargon_model.predict(np.array(X_test), verbose=1)"
   ]
  },
  {
   "cell_type": "code",
   "execution_count": 57,
   "id": "3f1c1110",
   "metadata": {
    "execution": {
     "iopub.execute_input": "2023-05-02T19:37:56.365432Z",
     "iopub.status.busy": "2023-05-02T19:37:56.365004Z",
     "iopub.status.idle": "2023-05-02T19:37:56.371436Z",
     "shell.execute_reply": "2023-05-02T19:37:56.370098Z"
    },
    "papermill": {
     "duration": 0.26262,
     "end_time": "2023-05-02T19:37:56.374436",
     "exception": false,
     "start_time": "2023-05-02T19:37:56.111816",
     "status": "completed"
    },
    "tags": []
   },
   "outputs": [
    {
     "name": "stdout",
     "output_type": "stream",
     "text": [
      "2496\n"
     ]
    }
   ],
   "source": [
    "print(len(test_pred))"
   ]
  },
  {
   "cell_type": "code",
   "execution_count": 58,
   "id": "a633766a",
   "metadata": {
    "execution": {
     "iopub.execute_input": "2023-05-02T19:37:56.880383Z",
     "iopub.status.busy": "2023-05-02T19:37:56.879926Z",
     "iopub.status.idle": "2023-05-02T19:37:56.885453Z",
     "shell.execute_reply": "2023-05-02T19:37:56.884347Z"
    },
    "papermill": {
     "duration": 0.261527,
     "end_time": "2023-05-02T19:37:56.887870",
     "exception": false,
     "start_time": "2023-05-02T19:37:56.626343",
     "status": "completed"
    },
    "tags": []
   },
   "outputs": [],
   "source": [
    "idx2tag = {i: w for w, i in tags2index.items()}"
   ]
  },
  {
   "cell_type": "code",
   "execution_count": 59,
   "id": "647d42e6",
   "metadata": {
    "execution": {
     "iopub.execute_input": "2023-05-02T19:37:57.389023Z",
     "iopub.status.busy": "2023-05-02T19:37:57.388565Z",
     "iopub.status.idle": "2023-05-02T19:37:57.396512Z",
     "shell.execute_reply": "2023-05-02T19:37:57.395261Z"
    },
    "papermill": {
     "duration": 0.259922,
     "end_time": "2023-05-02T19:37:57.399065",
     "exception": false,
     "start_time": "2023-05-02T19:37:57.139143",
     "status": "completed"
    },
    "tags": []
   },
   "outputs": [
    {
     "data": {
      "text/plain": [
       "{0: 'O', 1: 'TERM'}"
      ]
     },
     "execution_count": 59,
     "metadata": {},
     "output_type": "execute_result"
    }
   ],
   "source": [
    "idx2tag"
   ]
  },
  {
   "cell_type": "markdown",
   "id": "ab4ae3af",
   "metadata": {
    "papermill": {
     "duration": 0.247479,
     "end_time": "2023-05-02T19:37:57.894686",
     "exception": false,
     "start_time": "2023-05-02T19:37:57.647207",
     "status": "completed"
    },
    "tags": []
   },
   "source": [
    "## This function generates predictions for every valid token in every sentence "
   ]
  },
  {
   "cell_type": "code",
   "execution_count": 60,
   "id": "19b3d7fa",
   "metadata": {
    "execution": {
     "iopub.execute_input": "2023-05-02T19:37:58.394117Z",
     "iopub.status.busy": "2023-05-02T19:37:58.393608Z",
     "iopub.status.idle": "2023-05-02T19:37:58.401389Z",
     "shell.execute_reply": "2023-05-02T19:37:58.400104Z"
    },
    "papermill": {
     "duration": 0.263045,
     "end_time": "2023-05-02T19:37:58.404021",
     "exception": false,
     "start_time": "2023-05-02T19:37:58.140976",
     "status": "completed"
    },
    "tags": []
   },
   "outputs": [],
   "source": [
    "def pred2label(pred, text_X):\n",
    "    sentout = []\n",
    "    for i in range(orig_testX_len):\n",
    "        out = []\n",
    "        pad_len = test_padwordCount_sentwise[i]\n",
    "        sent_len = sentence_length - pad_len\n",
    "        if i < 15:\n",
    "            print(f\"pad words for sent{i}: {pad_len}, exact sent len: {sent_len}\")            \n",
    "        for j in range(sent_len):\n",
    "            p_i = np.argmax(pred[i][j])\n",
    "            out.append(idx2tag[p_i])\n",
    "        sentout.append(out)\n",
    "    return sentout"
   ]
  },
  {
   "cell_type": "code",
   "execution_count": 61,
   "id": "694826fe",
   "metadata": {
    "execution": {
     "iopub.execute_input": "2023-05-02T19:37:58.990788Z",
     "iopub.status.busy": "2023-05-02T19:37:58.990371Z",
     "iopub.status.idle": "2023-05-02T19:37:59.107428Z",
     "shell.execute_reply": "2023-05-02T19:37:59.105679Z"
    },
    "papermill": {
     "duration": 0.45297,
     "end_time": "2023-05-02T19:37:59.110370",
     "exception": false,
     "start_time": "2023-05-02T19:37:58.657400",
     "status": "completed"
    },
    "tags": []
   },
   "outputs": [
    {
     "name": "stdout",
     "output_type": "stream",
     "text": [
      "pad words for sent0: 12, exact sent len: 13\n",
      "pad words for sent1: 0, exact sent len: 25\n",
      "pad words for sent2: 0, exact sent len: 25\n",
      "pad words for sent3: 0, exact sent len: 25\n",
      "pad words for sent4: 0, exact sent len: 25\n",
      "pad words for sent5: 0, exact sent len: 25\n",
      "pad words for sent6: 23, exact sent len: 2\n",
      "pad words for sent7: 6, exact sent len: 19\n",
      "pad words for sent8: 0, exact sent len: 25\n",
      "pad words for sent9: 21, exact sent len: 4\n",
      "pad words for sent10: 0, exact sent len: 25\n",
      "pad words for sent11: 16, exact sent len: 9\n",
      "pad words for sent12: 0, exact sent len: 25\n",
      "pad words for sent13: 8, exact sent len: 17\n",
      "pad words for sent14: 5, exact sent len: 20\n"
     ]
    }
   ],
   "source": [
    "pred_labels = pred2label(test_pred, text_X=X_test)"
   ]
  },
  {
   "cell_type": "code",
   "execution_count": 62,
   "id": "7ad024c3",
   "metadata": {
    "execution": {
     "iopub.execute_input": "2023-05-02T19:37:59.635654Z",
     "iopub.status.busy": "2023-05-02T19:37:59.635231Z",
     "iopub.status.idle": "2023-05-02T19:37:59.644262Z",
     "shell.execute_reply": "2023-05-02T19:37:59.642944Z"
    },
    "papermill": {
     "duration": 0.287725,
     "end_time": "2023-05-02T19:37:59.646922",
     "exception": false,
     "start_time": "2023-05-02T19:37:59.359197",
     "status": "completed"
    },
    "tags": []
   },
   "outputs": [
    {
     "data": {
      "text/plain": [
       "['O',\n",
       " 'O',\n",
       " 'TERM',\n",
       " 'O',\n",
       " 'O',\n",
       " 'O',\n",
       " 'O',\n",
       " 'O',\n",
       " 'O',\n",
       " 'O',\n",
       " 'TERM',\n",
       " 'O',\n",
       " 'O',\n",
       " 'O',\n",
       " 'O',\n",
       " 'O',\n",
       " 'O',\n",
       " 'O',\n",
       " 'O',\n",
       " 'O',\n",
       " 'O',\n",
       " 'O',\n",
       " 'O',\n",
       " 'O',\n",
       " 'O']"
      ]
     },
     "execution_count": 62,
     "metadata": {},
     "output_type": "execute_result"
    }
   ],
   "source": [
    "pred_labels[1]"
   ]
  },
  {
   "cell_type": "code",
   "execution_count": 63,
   "id": "7560b354",
   "metadata": {
    "execution": {
     "iopub.execute_input": "2023-05-02T19:38:00.143765Z",
     "iopub.status.busy": "2023-05-02T19:38:00.143354Z",
     "iopub.status.idle": "2023-05-02T19:38:00.149344Z",
     "shell.execute_reply": "2023-05-02T19:38:00.148453Z"
    },
    "papermill": {
     "duration": 0.256165,
     "end_time": "2023-05-02T19:38:00.151672",
     "exception": false,
     "start_time": "2023-05-02T19:37:59.895507",
     "status": "completed"
    },
    "tags": []
   },
   "outputs": [
    {
     "name": "stdout",
     "output_type": "stream",
     "text": [
      "Number of elements:  42358\n"
     ]
    }
   ],
   "source": [
    "# Count the total number of elements\n",
    "num_elements = sum(len(sublist) for sublist in pred_labels)\n",
    "\n",
    "print(\"Number of elements: \", num_elements)\n"
   ]
  },
  {
   "cell_type": "markdown",
   "id": "bcd83691",
   "metadata": {
    "papermill": {
     "duration": 0.253545,
     "end_time": "2023-05-02T19:38:00.656134",
     "exception": false,
     "start_time": "2023-05-02T19:38:00.402589",
     "status": "completed"
    },
    "tags": []
   },
   "source": [
    "## Modify the result dataframe so as to match kaggle test set predictions upload configuration"
   ]
  },
  {
   "cell_type": "code",
   "execution_count": 64,
   "id": "0469d359",
   "metadata": {
    "execution": {
     "iopub.execute_input": "2023-05-02T19:38:01.156454Z",
     "iopub.status.busy": "2023-05-02T19:38:01.156030Z",
     "iopub.status.idle": "2023-05-02T19:38:01.174640Z",
     "shell.execute_reply": "2023-05-02T19:38:01.173333Z"
    },
    "papermill": {
     "duration": 0.2716,
     "end_time": "2023-05-02T19:38:01.177248",
     "exception": false,
     "start_time": "2023-05-02T19:38:00.905648",
     "status": "completed"
    },
    "tags": []
   },
   "outputs": [
    {
     "data": {
      "text/html": [
       "<div>\n",
       "<style scoped>\n",
       "    .dataframe tbody tr th:only-of-type {\n",
       "        vertical-align: middle;\n",
       "    }\n",
       "\n",
       "    .dataframe tbody tr th {\n",
       "        vertical-align: top;\n",
       "    }\n",
       "\n",
       "    .dataframe thead th {\n",
       "        text-align: right;\n",
       "    }\n",
       "</style>\n",
       "<table border=\"1\" class=\"dataframe\">\n",
       "  <thead>\n",
       "    <tr style=\"text-align: right;\">\n",
       "      <th></th>\n",
       "      <th>label</th>\n",
       "    </tr>\n",
       "  </thead>\n",
       "  <tbody>\n",
       "    <tr>\n",
       "      <th>0</th>\n",
       "      <td>O</td>\n",
       "    </tr>\n",
       "    <tr>\n",
       "      <th>1</th>\n",
       "      <td>O</td>\n",
       "    </tr>\n",
       "    <tr>\n",
       "      <th>2</th>\n",
       "      <td>O</td>\n",
       "    </tr>\n",
       "    <tr>\n",
       "      <th>3</th>\n",
       "      <td>O</td>\n",
       "    </tr>\n",
       "    <tr>\n",
       "      <th>4</th>\n",
       "      <td>O</td>\n",
       "    </tr>\n",
       "    <tr>\n",
       "      <th>5</th>\n",
       "      <td>O</td>\n",
       "    </tr>\n",
       "    <tr>\n",
       "      <th>6</th>\n",
       "      <td>TERM</td>\n",
       "    </tr>\n",
       "    <tr>\n",
       "      <th>7</th>\n",
       "      <td>O</td>\n",
       "    </tr>\n",
       "    <tr>\n",
       "      <th>8</th>\n",
       "      <td>O</td>\n",
       "    </tr>\n",
       "    <tr>\n",
       "      <th>9</th>\n",
       "      <td>O</td>\n",
       "    </tr>\n",
       "  </tbody>\n",
       "</table>\n",
       "</div>"
      ],
      "text/plain": [
       "  label\n",
       "0     O\n",
       "1     O\n",
       "2     O\n",
       "3     O\n",
       "4     O\n",
       "5     O\n",
       "6  TERM\n",
       "7     O\n",
       "8     O\n",
       "9     O"
      ]
     },
     "execution_count": 64,
     "metadata": {},
     "output_type": "execute_result"
    }
   ],
   "source": [
    "# Flatten the list of lists\n",
    "flat_list = [item for sublist in pred_labels for item in sublist]\n",
    "\n",
    "# Create a DataFrame with a single column 'list' containing the flattened list\n",
    "pred_labels_df = pd.DataFrame({'label': flat_list})\n",
    "pred_labels_df.head(10)"
   ]
  },
  {
   "cell_type": "markdown",
   "id": "9fce0883",
   "metadata": {
    "papermill": {
     "duration": 0.248063,
     "end_time": "2023-05-02T19:38:01.678125",
     "exception": false,
     "start_time": "2023-05-02T19:38:01.430062",
     "status": "completed"
    },
    "tags": []
   },
   "source": [
    "## Append a new column of predictions and drop useless columns "
   ]
  },
  {
   "cell_type": "code",
   "execution_count": null,
   "id": "3011dbb3",
   "metadata": {
    "papermill": {
     "duration": 0.249241,
     "end_time": "2023-05-02T19:38:02.173510",
     "exception": false,
     "start_time": "2023-05-02T19:38:01.924269",
     "status": "completed"
    },
    "tags": []
   },
   "outputs": [],
   "source": []
  },
  {
   "cell_type": "code",
   "execution_count": 65,
   "id": "6658d170",
   "metadata": {
    "execution": {
     "iopub.execute_input": "2023-05-02T19:38:02.764308Z",
     "iopub.status.busy": "2023-05-02T19:38:02.763509Z",
     "iopub.status.idle": "2023-05-02T19:38:02.781169Z",
     "shell.execute_reply": "2023-05-02T19:38:02.779773Z"
    },
    "papermill": {
     "duration": 0.270518,
     "end_time": "2023-05-02T19:38:02.783726",
     "exception": false,
     "start_time": "2023-05-02T19:38:02.513208",
     "status": "completed"
    },
    "tags": []
   },
   "outputs": [
    {
     "data": {
      "text/html": [
       "<div>\n",
       "<style scoped>\n",
       "    .dataframe tbody tr th:only-of-type {\n",
       "        vertical-align: middle;\n",
       "    }\n",
       "\n",
       "    .dataframe tbody tr th {\n",
       "        vertical-align: top;\n",
       "    }\n",
       "\n",
       "    .dataframe thead th {\n",
       "        text-align: right;\n",
       "    }\n",
       "</style>\n",
       "<table border=\"1\" class=\"dataframe\">\n",
       "  <thead>\n",
       "    <tr style=\"text-align: right;\">\n",
       "      <th></th>\n",
       "      <th>token_id</th>\n",
       "      <th>label</th>\n",
       "    </tr>\n",
       "  </thead>\n",
       "  <tbody>\n",
       "    <tr>\n",
       "      <th>0</th>\n",
       "      <td>cs/doc_1977/0/0</td>\n",
       "      <td>O</td>\n",
       "    </tr>\n",
       "    <tr>\n",
       "      <th>1</th>\n",
       "      <td>cs/doc_1977/0/1</td>\n",
       "      <td>O</td>\n",
       "    </tr>\n",
       "    <tr>\n",
       "      <th>2</th>\n",
       "      <td>cs/doc_1977/0/2</td>\n",
       "      <td>O</td>\n",
       "    </tr>\n",
       "    <tr>\n",
       "      <th>3</th>\n",
       "      <td>cs/doc_1977/0/3</td>\n",
       "      <td>O</td>\n",
       "    </tr>\n",
       "    <tr>\n",
       "      <th>4</th>\n",
       "      <td>cs/doc_1977/0/4</td>\n",
       "      <td>O</td>\n",
       "    </tr>\n",
       "    <tr>\n",
       "      <th>...</th>\n",
       "      <td>...</td>\n",
       "      <td>...</td>\n",
       "    </tr>\n",
       "    <tr>\n",
       "      <th>42353</th>\n",
       "      <td>phys/doc_2100/10/20</td>\n",
       "      <td>O</td>\n",
       "    </tr>\n",
       "    <tr>\n",
       "      <th>42354</th>\n",
       "      <td>phys/doc_2100/10/21</td>\n",
       "      <td>O</td>\n",
       "    </tr>\n",
       "    <tr>\n",
       "      <th>42355</th>\n",
       "      <td>phys/doc_2100/10/22</td>\n",
       "      <td>O</td>\n",
       "    </tr>\n",
       "    <tr>\n",
       "      <th>42356</th>\n",
       "      <td>phys/doc_2100/10/23</td>\n",
       "      <td>O</td>\n",
       "    </tr>\n",
       "    <tr>\n",
       "      <th>42357</th>\n",
       "      <td>phys/doc_2100/10/24</td>\n",
       "      <td>O</td>\n",
       "    </tr>\n",
       "  </tbody>\n",
       "</table>\n",
       "<p>42358 rows × 2 columns</p>\n",
       "</div>"
      ],
      "text/plain": [
       "                  token_id label\n",
       "0          cs/doc_1977/0/0     O\n",
       "1          cs/doc_1977/0/1     O\n",
       "2          cs/doc_1977/0/2     O\n",
       "3          cs/doc_1977/0/3     O\n",
       "4          cs/doc_1977/0/4     O\n",
       "...                    ...   ...\n",
       "42353  phys/doc_2100/10/20     O\n",
       "42354  phys/doc_2100/10/21     O\n",
       "42355  phys/doc_2100/10/22     O\n",
       "42356  phys/doc_2100/10/23     O\n",
       "42357  phys/doc_2100/10/24     O\n",
       "\n",
       "[42358 rows x 2 columns]"
      ]
     },
     "execution_count": 65,
     "metadata": {},
     "output_type": "execute_result"
    }
   ],
   "source": [
    "testdata['label'] = pred_labels_df\n",
    "# Delete the columns 'token', 'prefix', and 'id'\n",
    "testdata = testdata.drop(['token', 'prefix', 'id'], axis=1)\n",
    "testdata"
   ]
  },
  {
   "cell_type": "markdown",
   "id": "96e2f77b",
   "metadata": {
    "papermill": {
     "duration": 0.248501,
     "end_time": "2023-05-02T19:38:03.281699",
     "exception": false,
     "start_time": "2023-05-02T19:38:03.033198",
     "status": "completed"
    },
    "tags": []
   },
   "source": [
    "# write predictions to csv file for unknown test set prediction in kaggle"
   ]
  },
  {
   "cell_type": "code",
   "execution_count": 66,
   "id": "b6f95830",
   "metadata": {
    "execution": {
     "iopub.execute_input": "2023-05-02T19:38:03.783227Z",
     "iopub.status.busy": "2023-05-02T19:38:03.782384Z",
     "iopub.status.idle": "2023-05-02T19:38:03.859382Z",
     "shell.execute_reply": "2023-05-02T19:38:03.857982Z"
    },
    "papermill": {
     "duration": 0.330252,
     "end_time": "2023-05-02T19:38:03.862316",
     "exception": false,
     "start_time": "2023-05-02T19:38:03.532064",
     "status": "completed"
    },
    "tags": []
   },
   "outputs": [],
   "source": [
    "testdata.to_csv('bilstm_crf_output_predictions.csv', index=False) "
   ]
  },
  {
   "cell_type": "markdown",
   "id": "a035cf7a",
   "metadata": {
    "papermill": {
     "duration": 0.250294,
     "end_time": "2023-05-02T19:38:04.361829",
     "exception": false,
     "start_time": "2023-05-02T19:38:04.111535",
     "status": "completed"
    },
    "tags": []
   },
   "source": [
    "## Upload the predictions to kaggle challenge here https://www.kaggle.com/competitions/jargon-detection/submissions"
   ]
  },
  {
   "cell_type": "code",
   "execution_count": null,
   "id": "271d9654",
   "metadata": {
    "papermill": {
     "duration": 0.253719,
     "end_time": "2023-05-02T19:38:04.869798",
     "exception": false,
     "start_time": "2023-05-02T19:38:04.616079",
     "status": "completed"
    },
    "tags": []
   },
   "outputs": [],
   "source": []
  }
 ],
 "metadata": {
  "kernelspec": {
   "display_name": "Python 3",
   "language": "python",
   "name": "python3"
  },
  "language_info": {
   "codemirror_mode": {
    "name": "ipython",
    "version": 3
   },
   "file_extension": ".py",
   "mimetype": "text/x-python",
   "name": "python",
   "nbconvert_exporter": "python",
   "pygments_lexer": "ipython3",
   "version": "3.7.12"
  },
  "papermill": {
   "default_parameters": {},
   "duration": 11005.493719,
   "end_time": "2023-05-02T19:38:08.493341",
   "environment_variables": {},
   "exception": null,
   "input_path": "__notebook__.ipynb",
   "output_path": "__notebook__.ipynb",
   "parameters": {},
   "start_time": "2023-05-02T16:34:42.999622",
   "version": "2.4.0"
  }
 },
 "nbformat": 4,
 "nbformat_minor": 5
}
